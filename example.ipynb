{
 "cells": [
  {
   "cell_type": "code",
   "execution_count": 1,
   "metadata": {},
   "outputs": [
    {
     "name": "stdout",
     "output_type": "stream",
     "text": [
      "49874\n"
     ]
    }
   ],
   "source": [
    "import re\n",
    "\n",
    "import pandas as pd\n",
    "import numpy as np\n",
    "import seaborn as sns\n",
    "import matplotlib.pyplot as plt\n",
    "import gensim\n",
    "from gensim.models import Word2Vec\n",
    "from tqdm.notebook import tqdm\n",
    "\n",
    "from sklearn.model_selection import train_test_split\n",
    "\n",
    "from src.dataset import read_dataset, tokenize_dataset, get_vocab_mapping"
   ]
  },
  {
   "cell_type": "code",
   "execution_count": 2,
   "metadata": {},
   "outputs": [],
   "source": [
    "# replace path with local dataset path\n",
    "dataset_path = \"snippets-dev/snippets-dev.db\""
   ]
  },
  {
   "cell_type": "code",
   "execution_count": 3,
   "metadata": {},
   "outputs": [
    {
     "data": {
      "text/html": [
       "<div>\n",
       "<style scoped>\n",
       "    .dataframe tbody tr th:only-of-type {\n",
       "        vertical-align: middle;\n",
       "    }\n",
       "\n",
       "    .dataframe tbody tr th {\n",
       "        vertical-align: top;\n",
       "    }\n",
       "\n",
       "    .dataframe thead th {\n",
       "        text-align: right;\n",
       "    }\n",
       "</style>\n",
       "<table border=\"1\" class=\"dataframe\">\n",
       "  <thead>\n",
       "    <tr style=\"text-align: right;\">\n",
       "      <th></th>\n",
       "      <th>language</th>\n",
       "      <th>code</th>\n",
       "    </tr>\n",
       "  </thead>\n",
       "  <tbody>\n",
       "    <tr>\n",
       "      <th>0</th>\n",
       "      <td>C++</td>\n",
       "      <td>\\n    http://www.apache.org/licenses/LICENSE-2...</td>\n",
       "    </tr>\n",
       "    <tr>\n",
       "      <th>1</th>\n",
       "      <td>C++</td>\n",
       "      <td>#include \"tensorflow/core/util/incremental_bar...</td>\n",
       "    </tr>\n",
       "    <tr>\n",
       "      <th>2</th>\n",
       "      <td>C++</td>\n",
       "      <td>mutex mu;\\n  GlobalJitLevelGetterTy getter T...</td>\n",
       "    </tr>\n",
       "    <tr>\n",
       "      <th>3</th>\n",
       "      <td>C++</td>\n",
       "      <td>collector.AddError(1, 2, \"foo\");\\n  collecto...</td>\n",
       "    </tr>\n",
       "    <tr>\n",
       "      <th>4</th>\n",
       "      <td>C++</td>\n",
       "      <td>/* Copyright 2018 The TensorFlow Authors. All ...</td>\n",
       "    </tr>\n",
       "    <tr>\n",
       "      <th>...</th>\n",
       "      <td>...</td>\n",
       "      <td>...</td>\n",
       "    </tr>\n",
       "    <tr>\n",
       "      <th>327121</th>\n",
       "      <td>C++</td>\n",
       "      <td>* * Worst Time Complexity O(log n)\\n * * Best...</td>\n",
       "    </tr>\n",
       "    <tr>\n",
       "      <th>327122</th>\n",
       "      <td>C++</td>\n",
       "      <td>/**\\n * \\file\\n * \\brief [Interpolation\\n * se...</td>\n",
       "    </tr>\n",
       "    <tr>\n",
       "      <th>327123</th>\n",
       "      <td>C++</td>\n",
       "      <td>std::cin &gt;&gt; n;\\n\\n    int *array = new int...</td>\n",
       "    </tr>\n",
       "    <tr>\n",
       "      <th>327124</th>\n",
       "      <td>C++</td>\n",
       "      <td>assert(not_found == answer1);\\n    // Test...</td>\n",
       "    </tr>\n",
       "    <tr>\n",
       "      <th>327125</th>\n",
       "      <td>C++</td>\n",
       "      <td>env-&gt;SetObjectField(newUserData, nameField...</td>\n",
       "    </tr>\n",
       "  </tbody>\n",
       "</table>\n",
       "<p>327126 rows × 2 columns</p>\n",
       "</div>"
      ],
      "text/plain": [
       "       language                                               code\n",
       "0           C++  \\n    http://www.apache.org/licenses/LICENSE-2...\n",
       "1           C++  #include \"tensorflow/core/util/incremental_bar...\n",
       "2           C++    mutex mu;\\n  GlobalJitLevelGetterTy getter T...\n",
       "3           C++    collector.AddError(1, 2, \"foo\");\\n  collecto...\n",
       "4           C++  /* Copyright 2018 The TensorFlow Authors. All ...\n",
       "...         ...                                                ...\n",
       "327121      C++   * * Worst Time Complexity O(log n)\\n * * Best...\n",
       "327122      C++  /**\\n * \\file\\n * \\brief [Interpolation\\n * se...\n",
       "327123      C++      std::cin >> n;\\n\\n    int *array = new int...\n",
       "327124      C++      assert(not_found == answer1);\\n    // Test...\n",
       "327125      C++      env->SetObjectField(newUserData, nameField...\n",
       "\n",
       "[327126 rows x 2 columns]"
      ]
     },
     "execution_count": 3,
     "metadata": {},
     "output_type": "execute_result"
    }
   ],
   "source": [
    "data = read_dataset(dataset_path, \"C++\")\n",
    "data"
   ]
  },
  {
   "cell_type": "code",
   "execution_count": 4,
   "metadata": {},
   "outputs": [
    {
     "name": "stdout",
     "output_type": "stream",
     "text": [
      "###### Index   77165 ######\n",
      "\n",
      "\t\t// Load Graph Tokens\n",
      "\n",
      "\t\tXmlNodeRef graphTokens = root->findChild(\"GraphTokens\");\n",
      "\t\tif (graphTokens)\n",
      "\n",
      "###########################\n",
      "###### Index  307910 ######\n",
      "    // }\n",
      "    ProtoWriter::StartObject(name);\n",
      "    status = (*type_renderer)(this, data);\n",
      "    if (!status.ok()) {\n",
      "      InvalidValue(master_type_.name(),\n",
      "\n",
      "###########################\n",
      "###### Index   79469 ######\n",
      "{\n",
      "\tif (m_isDriver)\n",
      "\t{\n",
      "\t\tif (IVehicleMovement* pMovement = m_pVehicle->GetMovement())\n",
      "\t\t\tpMovement->RequestMovement(movementRequest);\n",
      "\n",
      "###########################\n"
     ]
    }
   ],
   "source": [
    "np.random.seed(42)\n",
    "sample = data.sample(3)\n",
    "for i, language, code in sample.itertuples():\n",
    "    print(f\"###### Index {i:7} ######\")\n",
    "    print(code)\n",
    "    print(f\"###########################\")"
   ]
  },
  {
   "cell_type": "code",
   "execution_count": 5,
   "metadata": {},
   "outputs": [
    {
     "name": "stderr",
     "output_type": "stream",
     "text": [
      "100%|██████████| 3/3 [00:01<00:00,  2.06it/s]\n"
     ]
    },
    {
     "data": {
      "text/html": [
       "<div>\n",
       "<style scoped>\n",
       "    .dataframe tbody tr th:only-of-type {\n",
       "        vertical-align: middle;\n",
       "    }\n",
       "\n",
       "    .dataframe tbody tr th {\n",
       "        vertical-align: top;\n",
       "    }\n",
       "\n",
       "    .dataframe thead th {\n",
       "        text-align: right;\n",
       "    }\n",
       "</style>\n",
       "<table border=\"1\" class=\"dataframe\">\n",
       "  <thead>\n",
       "    <tr style=\"text-align: right;\">\n",
       "      <th></th>\n",
       "      <th>language</th>\n",
       "      <th>code</th>\n",
       "    </tr>\n",
       "  </thead>\n",
       "  <tbody>\n",
       "    <tr>\n",
       "      <th>77165</th>\n",
       "      <td>C++</td>\n",
       "      <td>[]</td>\n",
       "    </tr>\n",
       "    <tr>\n",
       "      <th>307910</th>\n",
       "      <td>C++</td>\n",
       "      <td>[]</td>\n",
       "    </tr>\n",
       "    <tr>\n",
       "      <th>79469</th>\n",
       "      <td>C++</td>\n",
       "      <td>[]</td>\n",
       "    </tr>\n",
       "  </tbody>\n",
       "</table>\n",
       "</div>"
      ],
      "text/plain": [
       "       language code\n",
       "77165       C++   []\n",
       "307910      C++   []\n",
       "79469       C++   []"
      ]
     },
     "execution_count": 5,
     "metadata": {},
     "output_type": "execute_result"
    }
   ],
   "source": [
    "sample = tokenize_dataset(sample)\n",
    "sample"
   ]
  },
  {
   "cell_type": "code",
   "execution_count": 6,
   "metadata": {},
   "outputs": [
    {
     "name": "stdout",
     "output_type": "stream",
     "text": [
      "[]\n",
      "[]\n",
      "[]\n"
     ]
    }
   ],
   "source": [
    "for language, code in sample.itertuples(False):\n",
    "    print(code)"
   ]
  },
  {
   "cell_type": "code",
   "execution_count": 7,
   "metadata": {},
   "outputs": [
    {
     "name": "stderr",
     "output_type": "stream",
     "text": [
      "100%|██████████| 327126/327126 [04:00<00:00, 1357.60it/s]\n"
     ]
    },
    {
     "data": {
      "text/html": [
       "<div>\n",
       "<style scoped>\n",
       "    .dataframe tbody tr th:only-of-type {\n",
       "        vertical-align: middle;\n",
       "    }\n",
       "\n",
       "    .dataframe tbody tr th {\n",
       "        vertical-align: top;\n",
       "    }\n",
       "\n",
       "    .dataframe thead th {\n",
       "        text-align: right;\n",
       "    }\n",
       "</style>\n",
       "<table border=\"1\" class=\"dataframe\">\n",
       "  <thead>\n",
       "    <tr style=\"text-align: right;\">\n",
       "      <th></th>\n",
       "      <th>language</th>\n",
       "      <th>code</th>\n",
       "    </tr>\n",
       "  </thead>\n",
       "  <tbody>\n",
       "    <tr>\n",
       "      <th>0</th>\n",
       "      <td>C++</td>\n",
       "      <td>[http, :, Unless, required, http, Unless, requ...</td>\n",
       "    </tr>\n",
       "    <tr>\n",
       "      <th>1</th>\n",
       "      <td>C++</td>\n",
       "      <td>[&lt;EOF&gt;]</td>\n",
       "    </tr>\n",
       "    <tr>\n",
       "      <th>2</th>\n",
       "      <td>C++</td>\n",
       "      <td>[]</td>\n",
       "    </tr>\n",
       "    <tr>\n",
       "      <th>3</th>\n",
       "      <td>C++</td>\n",
       "      <td>[AddError, (, INT_LITERAL, ,, INT_LITERAL, ,, ...</td>\n",
       "    </tr>\n",
       "    <tr>\n",
       "      <th>4</th>\n",
       "      <td>C++</td>\n",
       "      <td>[]</td>\n",
       "    </tr>\n",
       "    <tr>\n",
       "      <th>...</th>\n",
       "      <td>...</td>\n",
       "      <td>...</td>\n",
       "    </tr>\n",
       "    <tr>\n",
       "      <th>327121</th>\n",
       "      <td>C++</td>\n",
       "      <td>[]</td>\n",
       "    </tr>\n",
       "    <tr>\n",
       "      <th>327122</th>\n",
       "      <td>C++</td>\n",
       "      <td>[&lt;EOF&gt;]</td>\n",
       "    </tr>\n",
       "    <tr>\n",
       "      <th>327123</th>\n",
       "      <td>C++</td>\n",
       "      <td>[]</td>\n",
       "    </tr>\n",
       "    <tr>\n",
       "      <th>327124</th>\n",
       "      <td>C++</td>\n",
       "      <td>[assert, (, not_found, ==, answer1, ), ;, answ...</td>\n",
       "    </tr>\n",
       "    <tr>\n",
       "      <th>327125</th>\n",
       "      <td>C++</td>\n",
       "      <td>[SetObjectField, (, newUserData, ,, nameField,...</td>\n",
       "    </tr>\n",
       "  </tbody>\n",
       "</table>\n",
       "<p>327126 rows × 2 columns</p>\n",
       "</div>"
      ],
      "text/plain": [
       "       language                                               code\n",
       "0           C++  [http, :, Unless, required, http, Unless, requ...\n",
       "1           C++                                            [<EOF>]\n",
       "2           C++                                                 []\n",
       "3           C++  [AddError, (, INT_LITERAL, ,, INT_LITERAL, ,, ...\n",
       "4           C++                                                 []\n",
       "...         ...                                                ...\n",
       "327121      C++                                                 []\n",
       "327122      C++                                            [<EOF>]\n",
       "327123      C++                                                 []\n",
       "327124      C++  [assert, (, not_found, ==, answer1, ), ;, answ...\n",
       "327125      C++  [SetObjectField, (, newUserData, ,, nameField,...\n",
       "\n",
       "[327126 rows x 2 columns]"
      ]
     },
     "execution_count": 7,
     "metadata": {},
     "output_type": "execute_result"
    }
   ],
   "source": [
    "tokenize_dataset(data)"
   ]
  },
  {
   "cell_type": "code",
   "execution_count": 8,
   "metadata": {},
   "outputs": [
    {
     "data": {
      "text/html": [
       "<div>\n",
       "<style scoped>\n",
       "    .dataframe tbody tr th:only-of-type {\n",
       "        vertical-align: middle;\n",
       "    }\n",
       "\n",
       "    .dataframe tbody tr th {\n",
       "        vertical-align: top;\n",
       "    }\n",
       "\n",
       "    .dataframe thead th {\n",
       "        text-align: right;\n",
       "    }\n",
       "</style>\n",
       "<table border=\"1\" class=\"dataframe\">\n",
       "  <thead>\n",
       "    <tr style=\"text-align: right;\">\n",
       "      <th></th>\n",
       "      <th>language</th>\n",
       "      <th>code</th>\n",
       "    </tr>\n",
       "  </thead>\n",
       "  <tbody>\n",
       "    <tr>\n",
       "      <th>0</th>\n",
       "      <td>Python</td>\n",
       "      <td>version = '7'\\nhtml_title = \"Guzzle Documentat...</td>\n",
       "    </tr>\n",
       "    <tr>\n",
       "      <th>1</th>\n",
       "      <td>Python</td>\n",
       "      <td># Path to a touch icon\\n    # \"touch_icon\"...</td>\n",
       "    </tr>\n",
       "    <tr>\n",
       "      <th>2</th>\n",
       "      <td>Python</td>\n",
       "      <td>\"base_url\": \"http://guzzlephp.org\"\\n\\n    ...</td>\n",
       "    </tr>\n",
       "    <tr>\n",
       "      <th>3</th>\n",
       "      <td>Python</td>\n",
       "      <td>from tensorflow.python.estimator.model_fn impo...</td>\n",
       "    </tr>\n",
       "    <tr>\n",
       "      <th>4</th>\n",
       "      <td>Python</td>\n",
       "      <td>self.assertFalse(gfile.Exists('ram://exist...</td>\n",
       "    </tr>\n",
       "    <tr>\n",
       "      <th>...</th>\n",
       "      <td>...</td>\n",
       "      <td>...</td>\n",
       "    </tr>\n",
       "    <tr>\n",
       "      <th>1546444</th>\n",
       "      <td>C++</td>\n",
       "      <td>* * Worst Time Complexity O(log n)\\n * * Best...</td>\n",
       "    </tr>\n",
       "    <tr>\n",
       "      <th>1546445</th>\n",
       "      <td>C++</td>\n",
       "      <td>/**\\n * \\file\\n * \\brief [Interpolation\\n * se...</td>\n",
       "    </tr>\n",
       "    <tr>\n",
       "      <th>1546446</th>\n",
       "      <td>C++</td>\n",
       "      <td>std::cin &gt;&gt; n;\\n\\n    int *array = new int...</td>\n",
       "    </tr>\n",
       "    <tr>\n",
       "      <th>1546447</th>\n",
       "      <td>C++</td>\n",
       "      <td>assert(not_found == answer1);\\n    // Test...</td>\n",
       "    </tr>\n",
       "    <tr>\n",
       "      <th>1546448</th>\n",
       "      <td>C++</td>\n",
       "      <td>env-&gt;SetObjectField(newUserData, nameField...</td>\n",
       "    </tr>\n",
       "  </tbody>\n",
       "</table>\n",
       "<p>1546449 rows × 2 columns</p>\n",
       "</div>"
      ],
      "text/plain": [
       "        language                                               code\n",
       "0         Python  version = '7'\\nhtml_title = \"Guzzle Documentat...\n",
       "1         Python      # Path to a touch icon\\n    # \"touch_icon\"...\n",
       "2         Python      \"base_url\": \"http://guzzlephp.org\"\\n\\n    ...\n",
       "3         Python  from tensorflow.python.estimator.model_fn impo...\n",
       "4         Python      self.assertFalse(gfile.Exists('ram://exist...\n",
       "...          ...                                                ...\n",
       "1546444      C++   * * Worst Time Complexity O(log n)\\n * * Best...\n",
       "1546445      C++  /**\\n * \\file\\n * \\brief [Interpolation\\n * se...\n",
       "1546446      C++      std::cin >> n;\\n\\n    int *array = new int...\n",
       "1546447      C++      assert(not_found == answer1);\\n    // Test...\n",
       "1546448      C++      env->SetObjectField(newUserData, nameField...\n",
       "\n",
       "[1546449 rows x 2 columns]"
      ]
     },
     "execution_count": 8,
     "metadata": {},
     "output_type": "execute_result"
    }
   ],
   "source": [
    "datasets = [read_dataset(dataset_path, language) for language in [\"Python\", \"Go\", \"C\", \"C++\"]]\n",
    "datasets = pd.concat(datasets, ignore_index=True)\n",
    "datasets"
   ]
  },
  {
   "cell_type": "code",
   "execution_count": 9,
   "metadata": {},
   "outputs": [],
   "source": [
    "tokenized = tokenize_dataset(datasets)\n",
    "tokenized"
   ]
  },
  {
   "cell_type": "code",
   "execution_count": null,
   "metadata": {},
   "outputs": [
    {
     "ename": "",
     "evalue": "",
     "output_type": "error",
     "traceback": [
      "\u001b[1;31mFailed to start the Kernel. \n",
      "\u001b[1;31mUnable to start Kernel 'env (Python 3.10.5)' due to connection timeout. \n",
      "\u001b[1;31mView Jupyter <a href='command:jupyter.viewOutput'>log</a> for further details."
     ]
    }
   ],
   "source": [
    "words2int, int2word = get_vocab_mapping(tokenized)"
   ]
  }
 ],
 "metadata": {
  "kernelspec": {
   "display_name": "env",
   "language": "python",
   "name": "python3"
  },
  "language_info": {
   "codemirror_mode": {
    "name": "ipython",
    "version": 3
   },
   "file_extension": ".py",
   "mimetype": "text/x-python",
   "name": "python",
   "nbconvert_exporter": "python",
   "pygments_lexer": "ipython3",
   "version": "3.10.5 (tags/v3.10.5:f377153, Jun  6 2022, 16:14:13) [MSC v.1929 64 bit (AMD64)]"
  },
  "orig_nbformat": 4,
  "vscode": {
   "interpreter": {
    "hash": "4ba882bed1965a54d4fef669f18faecb8d8e732d30288b3c8a5015454ba0d6c4"
   }
  }
 },
 "nbformat": 4,
 "nbformat_minor": 2
}
