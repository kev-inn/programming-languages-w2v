{
 "cells": [
  {
   "cell_type": "code",
   "execution_count": 1,
   "metadata": {},
   "outputs": [],
   "source": [
    "import re\n",
    "from typing import List, Tuple\n",
    "\n",
    "import os\n",
    "import pandas as pd\n",
    "import numpy as np\n",
    "import seaborn as sns\n",
    "import matplotlib.pyplot as plt\n",
    "import gensim\n",
    "from gensim.models import Word2Vec, FastText\n",
    "from tqdm.notebook import tqdm\n",
    "\n",
    "from sklearn.decomposition import PCA\n",
    "from sklearn.model_selection import train_test_split\n",
    "\n",
    "from src.dataset import read_lang_dataset, tokenize_dataset, tokenize_document, get_vocab_mapping, gateways\n",
    "\n",
    "sns.set_theme()\n",
    "sns.set(rc={'figure.figsize': (12, 8)})"
   ]
  },
  {
   "cell_type": "code",
   "execution_count": 2,
   "metadata": {},
   "outputs": [
    {
     "data": {
      "text/html": [
       "<div>\n",
       "<style scoped>\n",
       "    .dataframe tbody tr th:only-of-type {\n",
       "        vertical-align: middle;\n",
       "    }\n",
       "\n",
       "    .dataframe tbody tr th {\n",
       "        vertical-align: top;\n",
       "    }\n",
       "\n",
       "    .dataframe thead th {\n",
       "        text-align: right;\n",
       "    }\n",
       "</style>\n",
       "<table border=\"1\" class=\"dataframe\">\n",
       "  <thead>\n",
       "    <tr style=\"text-align: right;\">\n",
       "      <th></th>\n",
       "      <th>language</th>\n",
       "      <th>code</th>\n",
       "    </tr>\n",
       "  </thead>\n",
       "  <tbody>\n",
       "    <tr>\n",
       "      <th>0</th>\n",
       "      <td>Python</td>\n",
       "      <td>\"\"\"The tests for the automation component.\"\"\"\\...</td>\n",
       "    </tr>\n",
       "    <tr>\n",
       "      <th>1</th>\n",
       "      <td>Python</td>\n",
       "      <td>#!python2\\n# -*- coding: utf-8 -*-\\nimport os\\...</td>\n",
       "    </tr>\n",
       "    <tr>\n",
       "      <th>2</th>\n",
       "      <td>Python</td>\n",
       "      <td>#!/usr/bin/python\\n#\\n# Copyright (c) 2017 Yuw...</td>\n",
       "    </tr>\n",
       "    <tr>\n",
       "      <th>3</th>\n",
       "      <td>Python</td>\n",
       "      <td>\"\"\"The tests for the Template automation.\"\"\"\\n...</td>\n",
       "    </tr>\n",
       "    <tr>\n",
       "      <th>4</th>\n",
       "      <td>Python</td>\n",
       "      <td>\"\"\"The tests for numeric state automation.\"\"\"\\...</td>\n",
       "    </tr>\n",
       "    <tr>\n",
       "      <th>...</th>\n",
       "      <td>...</td>\n",
       "      <td>...</td>\n",
       "    </tr>\n",
       "    <tr>\n",
       "      <th>9467</th>\n",
       "      <td>C#</td>\n",
       "      <td>using Microsoft.SharePoint.Client;\\nusing Micr...</td>\n",
       "    </tr>\n",
       "    <tr>\n",
       "      <th>9468</th>\n",
       "      <td>C#</td>\n",
       "      <td>using System;\\nusing System.Collections;\\nusin...</td>\n",
       "    </tr>\n",
       "    <tr>\n",
       "      <th>9469</th>\n",
       "      <td>C#</td>\n",
       "      <td>using UnityEngine;\\nusing System.Collections.G...</td>\n",
       "    </tr>\n",
       "    <tr>\n",
       "      <th>9470</th>\n",
       "      <td>C#</td>\n",
       "      <td>// Copyright (c) Microsoft Corporation. All ri...</td>\n",
       "    </tr>\n",
       "    <tr>\n",
       "      <th>9471</th>\n",
       "      <td>C#</td>\n",
       "      <td>using NUnit.Framework;\\nusing UnityEngine.Loca...</td>\n",
       "    </tr>\n",
       "  </tbody>\n",
       "</table>\n",
       "<p>9472 rows × 2 columns</p>\n",
       "</div>"
      ],
      "text/plain": [
       "     language                                               code\n",
       "0      Python  \"\"\"The tests for the automation component.\"\"\"\\...\n",
       "1      Python  #!python2\\n# -*- coding: utf-8 -*-\\nimport os\\...\n",
       "2      Python  #!/usr/bin/python\\n#\\n# Copyright (c) 2017 Yuw...\n",
       "3      Python  \"\"\"The tests for the Template automation.\"\"\"\\n...\n",
       "4      Python  \"\"\"The tests for numeric state automation.\"\"\"\\...\n",
       "...       ...                                                ...\n",
       "9467       C#  using Microsoft.SharePoint.Client;\\nusing Micr...\n",
       "9468       C#  using System;\\nusing System.Collections;\\nusin...\n",
       "9469       C#  using UnityEngine;\\nusing System.Collections.G...\n",
       "9470       C#  // Copyright (c) Microsoft Corporation. All ri...\n",
       "9471       C#  using NUnit.Framework;\\nusing UnityEngine.Loca...\n",
       "\n",
       "[9472 rows x 2 columns]"
      ]
     },
     "execution_count": 2,
     "metadata": {},
     "output_type": "execute_result"
    }
   ],
   "source": [
    "dataset = read_lang_dataset('data/dataset_github_codes.db')\n",
    "dataset"
   ]
  },
  {
   "cell_type": "code",
   "execution_count": 3,
   "metadata": {},
   "outputs": [
    {
     "data": {
      "text/plain": [
       "C++       2688\n",
       "C#        2493\n",
       "Go        2203\n",
       "Python    2088\n",
       "Name: language, dtype: int64"
      ]
     },
     "execution_count": 3,
     "metadata": {},
     "output_type": "execute_result"
    }
   ],
   "source": [
    "dataset.language.value_counts()"
   ]
  },
  {
   "cell_type": "code",
   "execution_count": 4,
   "metadata": {},
   "outputs": [
    {
     "data": {
      "text/html": [
       "<div>\n",
       "<style scoped>\n",
       "    .dataframe tbody tr th:only-of-type {\n",
       "        vertical-align: middle;\n",
       "    }\n",
       "\n",
       "    .dataframe tbody tr th {\n",
       "        vertical-align: top;\n",
       "    }\n",
       "\n",
       "    .dataframe thead th {\n",
       "        text-align: right;\n",
       "    }\n",
       "</style>\n",
       "<table border=\"1\" class=\"dataframe\">\n",
       "  <thead>\n",
       "    <tr style=\"text-align: right;\">\n",
       "      <th></th>\n",
       "      <th>language</th>\n",
       "      <th>code</th>\n",
       "    </tr>\n",
       "  </thead>\n",
       "  <tbody>\n",
       "    <tr>\n",
       "      <th>0</th>\n",
       "      <td>Python</td>\n",
       "      <td>[STRING_LITERAL, \\n, from, datetime, import, t...</td>\n",
       "    </tr>\n",
       "    <tr>\n",
       "      <th>1</th>\n",
       "      <td>Python</td>\n",
       "      <td>[\\n, import, os, \\n, import, sys, \\n, import, ...</td>\n",
       "    </tr>\n",
       "    <tr>\n",
       "      <th>2</th>\n",
       "      <td>Python</td>\n",
       "      <td>[\\n, from, __future__, import, absolute_import...</td>\n",
       "    </tr>\n",
       "    <tr>\n",
       "      <th>3</th>\n",
       "      <td>Python</td>\n",
       "      <td>[STRING_LITERAL, \\n, import, unittest, \\n, fro...</td>\n",
       "    </tr>\n",
       "    <tr>\n",
       "      <th>4</th>\n",
       "      <td>Python</td>\n",
       "      <td>[STRING_LITERAL, \\n, from, datetime, import, t...</td>\n",
       "    </tr>\n",
       "    <tr>\n",
       "      <th>...</th>\n",
       "      <td>...</td>\n",
       "      <td>...</td>\n",
       "    </tr>\n",
       "    <tr>\n",
       "      <th>9467</th>\n",
       "      <td>C#</td>\n",
       "      <td>[using, Microsoft, ., SharePoint, ., Client, ;...</td>\n",
       "    </tr>\n",
       "    <tr>\n",
       "      <th>9468</th>\n",
       "      <td>C#</td>\n",
       "      <td>[using, System, ;, using, System, ., Collectio...</td>\n",
       "    </tr>\n",
       "    <tr>\n",
       "      <th>9469</th>\n",
       "      <td>C#</td>\n",
       "      <td>[using, UnityEngine, ;, using, System, ., Coll...</td>\n",
       "    </tr>\n",
       "    <tr>\n",
       "      <th>9470</th>\n",
       "      <td>C#</td>\n",
       "      <td>[using, System, ;, using, System, ., Collectio...</td>\n",
       "    </tr>\n",
       "    <tr>\n",
       "      <th>9471</th>\n",
       "      <td>C#</td>\n",
       "      <td>[using, NUnit, ., Framework, ;, using, UnityEn...</td>\n",
       "    </tr>\n",
       "  </tbody>\n",
       "</table>\n",
       "<p>9472 rows × 2 columns</p>\n",
       "</div>"
      ],
      "text/plain": [
       "     language                                               code\n",
       "0      Python  [STRING_LITERAL, \\n, from, datetime, import, t...\n",
       "1      Python  [\\n, import, os, \\n, import, sys, \\n, import, ...\n",
       "2      Python  [\\n, from, __future__, import, absolute_import...\n",
       "3      Python  [STRING_LITERAL, \\n, import, unittest, \\n, fro...\n",
       "4      Python  [STRING_LITERAL, \\n, from, datetime, import, t...\n",
       "...       ...                                                ...\n",
       "9467       C#  [using, Microsoft, ., SharePoint, ., Client, ;...\n",
       "9468       C#  [using, System, ;, using, System, ., Collectio...\n",
       "9469       C#  [using, UnityEngine, ;, using, System, ., Coll...\n",
       "9470       C#  [using, System, ;, using, System, ., Collectio...\n",
       "9471       C#  [using, NUnit, ., Framework, ;, using, UnityEn...\n",
       "\n",
       "[9472 rows x 2 columns]"
      ]
     },
     "execution_count": 4,
     "metadata": {},
     "output_type": "execute_result"
    }
   ],
   "source": [
    "use_cache = True\n",
    "# load \"tokenized_sample.pkl\" from disk if it exists\n",
    "if use_cache and os.path.exists(\"models/tokenized_sample.pkl\"):\n",
    "    tokenized_sample = pd.read_pickle(\"models/tokenized_sample.pkl\")\n",
    "else:\n",
    "    tokenized_sample = tokenize_dataset(dataset)\n",
    "    tokenized_sample.to_pickle(\"models/tokenized_sample.pkl\")\n",
    "\n",
    "tokenized_sample"
   ]
  },
  {
   "cell_type": "code",
   "execution_count": 5,
   "metadata": {},
   "outputs": [],
   "source": [
    "def create_lang_model(dataset, complete_model, language):\n",
    "    model = Word2Vec.load(\"models/complete_model.gensim\")\n",
    "    #model = FastText.load(\"models/complete_model.gensim\")\n",
    "    #model = Word2Vec(vector_size=100, window=10, min_count=10, workers=4)\n",
    "    #model.reset_from(complete_model)\n",
    "    #model.init_weights()\n",
    "    train_dataset = dataset.code[dataset.language == language]\n",
    "    model.train(train_dataset, total_examples=len(train_dataset), epochs=5)\n",
    "    return model"
   ]
  },
  {
   "cell_type": "code",
   "execution_count": 6,
   "metadata": {},
   "outputs": [],
   "source": [
    "common_keywords = [\"if\", \"else\", \"for\", \"while\", \"class\", \"struct\", \"return\", \"continue\", \"break\", \"var\", \"try\", \"catch\", \"except\"]\n",
    "semantic_symbols = [\"{\", \"}\", \":\"]\n",
    "\n",
    "language_specific_words = common_keywords + semantic_symbols"
   ]
  },
  {
   "cell_type": "code",
   "execution_count": 7,
   "metadata": {},
   "outputs": [],
   "source": [
    "from functools import partial\n",
    "\n",
    "\n",
    "def add_language_prefix(code, language):\n",
    "    return [f\"{language}_{keyword}\" if keyword in language_specific_words else keyword for keyword in code]\n",
    "\n",
    "for language in tokenized_sample.language.unique():\n",
    "    tokenized_sample.loc[tokenized_sample.language == language, \"code\"] = tokenized_sample[tokenized_sample.language == language].code.apply(partial(add_language_prefix, language=language))"
   ]
  },
  {
   "cell_type": "code",
   "execution_count": 8,
   "metadata": {},
   "outputs": [
    {
     "data": {
      "text/plain": [
       "<gensim.models.fasttext.FastText at 0x1fe62e2fa30>"
      ]
     },
     "execution_count": 8,
     "metadata": {},
     "output_type": "execute_result"
    }
   ],
   "source": [
    "#complete_model = FastText(vector_size=100, window=5, min_count=5, workers=8)\n",
    "complete_model_w2v = Word2Vec(vector_size=500, window=5, min_count=10, workers=8)\n",
    "complete_model = FastText(vector_size=100, window=5, min_count=10, workers=8)\n",
    "complete_model.build_vocab(tokenized_sample.code)\n",
    "complete_model.train(tokenized_sample.code, total_examples=complete_model.corpus_count, epochs=5)\n",
    "complete_model"
   ]
  },
  {
   "attachments": {},
   "cell_type": "markdown",
   "metadata": {},
   "source": [
    "# Visualize"
   ]
  },
  {
   "cell_type": "code",
   "execution_count": 9,
   "metadata": {},
   "outputs": [],
   "source": [
    "inserted_tokens = [\"INT_LITERAL\", \"FLOAT_LITERAL\", \"STRING_LITERAL\", \"VARIABLE\"]\n",
    "math_ops = [\"+\", \"-\", \"*\", \"/\", \"%\", \"&&\", \"||\", \"!\", \"&\", \"|\"]\n",
    "\n",
    "python_keywords = [\"def\", \"class\", \"return\", \"if\", \"else\", \"for\", \"while\", \"in\", \"import\", \"from\", \"as\", \"with\", \"try\", \"except\", \"finally\", \"raise\", \"assert\", \"yield\", \"lambda\", \"pass\", \"break\", \"continue\", \"del\", \"global\", \"nonlocal\", \"and\", \"or\", \"not\", \"is\", \"in\", \"True\", \"False\", \"None\", \"async\", \"await\"]\n",
    "cpp_keywords = [\"class\", \"bool\", \"catch\", \"try\", \"break\", \"continue\", \"delete\", \"do\", \"else\", \"enum\", \"explicit\", \"export\", \"extern\", \"false\", \"for\", \"friend\", \"goto\", \"if\", \"inline\", \"mutable\", \"namespace\", \"new\", \"operator\", \"private\", \"protected\", \"public\", \"register\", \"return\", \"sizeof\", \"static\", \"struct\", \"switch\", \"template\", \"this\", \"throw\", \"true\", \"typedef\", \"typeid\", \"typename\", \"union\", \"using\", \"virtual\", \"volatile\", \"while\"]\n",
    "csharp_keywords = [\"class\", \"bool\", \"catch\", \"try\", \"break\", \"continue\", \"delete\", \"do\", \"else\", \"enum\", \"explicit\", \"export\", \"extern\", \"false\", \"for\", \"friend\", \"goto\", \"if\", \"inline\", \"mutable\", \"namespace\", \"new\", \"operator\", \"private\", \"protected\", \"public\", \"register\", \"return\", \"sizeof\", \"static\", \"struct\", \"switch\", \"template\", \"this\", \"throw\", \"true\", \"typedef\", \"typeid\", \"typename\", \"union\", \"using\", \"virtual\", \"volatile\", \"while\"]\n",
    "go_keywords = [\"break\", \"func\", \"default\", \"type\", \"defer\", \"go\", \"struct\", \"map\", \"chan\", \"else\", \"goto\", \"package\", \"range\", \"const\", \"fallthrough\", \"for\", \"import\", \"interface\", \"return\", \"select\", \"case\", \"continue\", \"if\", \"switch\", \"var\", \"nil\", \"true\", \"false\"]"
   ]
  },
  {
   "cell_type": "code",
   "execution_count": 10,
   "metadata": {},
   "outputs": [],
   "source": [
    "def word_cloud(model: Word2Vec, words):\n",
    "    words = [word for word in words if word in model.wv.key_to_index.keys()]\n",
    "    word_vectors = np.array([model.wv.get_normed_vectors()[model.wv.key_to_index[word]] for word in words])\n",
    "    pca = PCA(n_components=2)\n",
    "    result = pca.fit_transform(word_vectors)\n",
    "\n",
    "    df = pd.DataFrame(result, columns=[\"x\", \"y\"])\n",
    "    df[\"model\"] = [word.split(\"_\")[0] if len(word.split(\"_\")) == 2 else \"\" for word in words]\n",
    "    ax = sns.scatterplot(data=df, x=\"x\", y=\"y\", hue=\"model\")\n",
    "    range_x, range_y = np.ptp(df[[\"x\", \"y\"]], axis=0)\n",
    "    keywords = [word.split(\"_\")[1] if len(word.split(\"_\")) == 2 else word for word in words]\n",
    "    for i, word in enumerate(keywords):\n",
    "        x, y = result[i]\n",
    "        ax.text(x + 0.005 * range_x, y, word, verticalalignment='center', horizontalalignment='left', fontsize=8)\n",
    "    return ax"
   ]
  },
  {
   "cell_type": "code",
   "execution_count": 11,
   "metadata": {},
   "outputs": [
    {
     "data": {
      "text/plain": [
       "<AxesSubplot: xlabel='x', ylabel='y'>"
      ]
     },
     "execution_count": 11,
     "metadata": {},
     "output_type": "execute_result"
    },
    {
     "data": {
      "image/png": "[encoded data removed]",
      "text/plain": [
       "<Figure size 1200x800 with 1 Axes>"
      ]
     },
     "metadata": {},
     "output_type": "display_data"
    }
   ],
   "source": [
    "word_cloud(complete_model, [f\"{language}_{w}\" for w in common_keywords for language in tokenized_sample.language.unique()] + [\"foreach\", 'dataclass'])"
   ]
  },
  {
   "cell_type": "code",
   "execution_count": 12,
   "metadata": {},
   "outputs": [
    {
     "data": {
      "text/plain": [
       "<gensim.models.fasttext.FastText at 0x1fe7f400f40>"
      ]
     },
     "execution_count": 12,
     "metadata": {},
     "output_type": "execute_result"
    }
   ],
   "source": [
    "python_codes = tokenized_sample[tokenized_sample[\"language\"] == 'Python']\n",
    "\n",
    "python_model = FastText(vector_size=100, window=5, min_count=10, workers=8, sg=1)\n",
    "python_model.build_vocab(python_codes.code)\n",
    "python_model.train(python_codes.code, total_examples=python_model.corpus_count, epochs=5)\n",
    "python_model\n"
   ]
  },
  {
   "cell_type": "code",
   "execution_count": 13,
   "metadata": {},
   "outputs": [
    {
     "name": "stderr",
     "output_type": "stream",
     "text": [
      "100%|██████████| 1/1 [00:01<00:00,  1.13s/it]"
     ]
    },
    {
     "name": "stdout",
     "output_type": "stream",
     "text": [
      " \n",
      " import os \n",
      " def main ( ) Python_:        VARIABLE = FLOAT_LITERAL   VARIABLE = [ FLOAT_LITERAL , FLOAT_LITERAL , FLOAT_LITERAL , FLOAT_LITERAL , FLOAT_LITERAL , FLOAT_LITERAL , FLOAT_LITERAL , FLOAT_LITERAL , FLOAT_LITERAL , FLOAT_LITERAL ]   Python_for i in range ( len ( VARIABLE ) ) Python_:            Python_if VARIABLE [ i ] == VARIABLE Python_:                print ( STRING_LITERAL )   os . exit ( FLOAT_LITERAL )       VARIABLE ( STRING_LITERAL VARIABLE VARIABLE VARIABLE Python_{ VARIABLE Python_}   os . exit ( - FLOAT_LITERAL ) \n",
      " \n",
      " Python_if __name__ == STRING_LITERAL Python_:        main ( ) \n",
      " \n",
      " <EOF>--------------------\n",
      "\n",
      "\n",
      " importlib osp \n",
      "\n",
      " ifsdef iommu_domain VARIANT_FALSE lirelettre PythonCAD Python_:\n",
      "     VARIANT pop INT_LITERAL Python_:\n",
      " VARIANT pop rule_5 INT_LITERAL CURLU_DEFAULT_SCHEME INT_LITERAL CURLU_DEFAULT_SCHEME INT_LITERAL CURLU_DEFAULT_SCHEME INT_LITERAL CURLU_DEFAULT_SCHEME INT_LITERAL CURLU_DEFAULT_SCHEME INT_LITERAL CURLU_DEFAULT_SCHEME INT_LITERAL CURLU_DEFAULT_SCHEME INT_LITERAL CURLU_DEFAULT_SCHEME INT_LITERAL CURLU_DEFAULT_SCHEME INT_LITERAL inputs Python_:\n",
      " PythonCAD k pin xrange VARIANT_FALSE hlen VARIANT_FALSE VARIANT lirelettre lirelettre PythonCAD Python_:\n",
      "         Python_while VARIANT rule_5 k inputs != VARIANT PythonCAD Python_:\n",
      "                pprint VARIANT_FALSE RSTRING_LEN lirelettre Python_:\n",
      " osp DSN fatal_exit VARIANT_FALSE INT_LITERAL lirelettre Python_:\n",
      " Python_:\n",
      " Python_:\n",
      " VARIANT VARIANT_FALSE RSTRING_LEN VARIANT VARIANT VARIANT PythonCAD VARIANT PythonCAD Python_:\n",
      " osp DSN fatal_exit VARIANT_FALSE <- INT_LITERAL lirelettre \n",
      "\n",
      " \n",
      "\n",
      " Python_while __name != RSTRING_LEN PythonCAD Python_:\n",
      "     iommu_domain VARIANT_FALSE lirelettre \n",
      "\n",
      " \n",
      "\n",
      " EOF\n"
     ]
    },
    {
     "name": "stderr",
     "output_type": "stream",
     "text": [
      "\n"
     ]
    }
   ],
   "source": [
    "python_code_example = \"\"\"#!/usr/bin/env python3\n",
    "\n",
    "import os\n",
    "\n",
    "def main():\n",
    "    query = 7\n",
    "    context = [3, 4, 10, 2, 8, 6, 5, 9, 7, 1]\n",
    "    for i in range(len(context)):\n",
    "        if context[i] == query:\n",
    "            print(f'Query found at index {i}')\n",
    "            os.exit(0)    \n",
    "\n",
    "    print(f'Coulnd't find query {query}')\n",
    "    os.exit(-1)\n",
    "\n",
    "\n",
    "if __name__ == '__main__':\n",
    "    main()\n",
    "\n",
    "}\"\"\"\n",
    "\n",
    "tokenized_code_example = tokenize_document(python_code_example, \"Python\")\n",
    "tokenized_code_example = add_language_prefix(tokenized_code_example, \"Python\")\n",
    "for word in tokenized_code_example:\n",
    "    print(f' {word}', end=\"\")\n",
    "\n",
    "def next_similar_token(token: str) -> str:\n",
    "    next_most_similar_token, _ = complete_model.wv.most_similar(positive=[token])[0]\n",
    "    return next_most_similar_token\n",
    "\n",
    "print('-'* 20)\n",
    "\n",
    "next_similar_document = ' '.join([next_similar_token(t) for t in tokenized_code_example])\n",
    "next_similar_document = next_similar_document.replace(':', ':\\n')\n",
    "print(next_similar_document)\n"
   ]
  },
  {
   "cell_type": "code",
   "execution_count": 14,
   "metadata": {},
   "outputs": [
    {
     "name": "stdout",
     "output_type": "stream",
     "text": [
      "shutil re bs4 system import requests random base64 threading sys import bs4 platform \t subprocess \n",
      " sys random stdout re import string exit sys random re subprocess string time \t \n",
      " requests \t\t random time print system sleep ConnectionError \t Public \t\t\t \t\t sleep print time Public requests Main ConnectionError sleep \t\t\t \t time \t\t Public ConnectionError exceptions print \t \t\t\t \t\t requests Python_except Public print sleep ConnectionError \t \t\t Public \t\t\t print requests sleep time public_menu \t \t\t ConnectionError \t\t\t requests system Public \t\t \t \t\t\t ConnectionError print exceptions Python_except Public time ConnectionError \t \t\t\t exceptions requests \t\t sleep print login \t ConnectionError requests sleep \t\t\t time input system print \t \t\t \t\t\t Main requests input \t \t\t print \t\t\t \n",
      "\t old system sleep \t \t\t print Main system \t\t\t \n",
      "\t old time \t\t \t print system sleep Main \t\t\t time \n",
      "\t requests sleep \t \t\t print time system Public Main ConnectionError sleep \t \t\t time Main print \t\t\t system Public requests \t\t \t print \t\t\t ConnectionError system time sleep Public "
     ]
    }
   ],
   "source": [
    "recent_tokens = ['import', 'os']\n",
    "\n",
    "for i in range(20):\n",
    "    next_tokens = python_model.predict_output_word(recent_tokens[-5:])\n",
    "\n",
    "    token_found = False\n",
    "    for t, _ in next_tokens:\n",
    "        if t in recent_tokens[-5:] and t not in ['import', ',']:\n",
    "            continue\n",
    "\n",
    "        recent_tokens.append(t)\n",
    "        print(t, end=' ')\n",
    "        token_found = True\n",
    "\n",
    "    if not token_found:\n",
    "        t, _ = next_tokens[0]\n",
    "        recent_tokens.append(t)\n",
    "        print(t, end=' ')\n"
   ]
  },
  {
   "cell_type": "code",
   "execution_count": 56,
   "metadata": {},
   "outputs": [
    {
     "name": "stdout",
     "output_type": "stream",
     "text": [
      "Number to different tokens: 36150\n",
      "10 most frequent tokens for Python:\n",
      " VARIABLE: 524241\n",
      " ,: 337469\n",
      " STRING_LITERAL: 315775\n",
      " .: 306763\n",
      "  : 298737\n",
      " (: 271330\n",
      " ): 269726\n",
      " =: 177147\n",
      " Python_:: 151609\n",
      " FLOAT_LITERAL: 77898\n",
      "Number to different tokens: 46677\n",
      "10 most frequent tokens for C#:\n",
      " .: 337464\n",
      " VARIABLE: 282619\n",
      " (: 227667\n",
      " ): 227622\n",
      " ;: 210292\n",
      " ,: 118142\n",
      " =: 102123\n",
      " C#_{: 90397\n",
      " C#_}: 88813\n",
      " STRING_LITERAL: 70338\n",
      "Number to different tokens: 31247\n",
      "10 most frequent tokens for Go:\n",
      " VARIABLE: 577861\n",
      " ,: 491687\n",
      " .: 407431\n",
      " (: 342090\n",
      " ): 342053\n",
      " \n",
      ": 260226\n",
      " STRING_LITERAL: 185375\n",
      " INT_LITERAL: 166587\n",
      " Go_{: 147162\n",
      " Go_}: 147109\n",
      "Number to different tokens: 51581\n",
      "10 most frequent tokens for C++:\n",
      " VARIABLE: 527661\n",
      " ,: 362480\n",
      " ;: 362319\n",
      " (: 348119\n",
      " ): 347616\n",
      " INT_LITERAL: 146625\n",
      " ->: 124351\n",
      " *: 122931\n",
      " =: 116561\n",
      " C++_{: 90082\n"
     ]
    },
    {
     "data": {
      "image/png": "[encoded data removed]",
      "text/plain": [
       "<Figure size 1200x800 with 1 Axes>"
      ]
     },
     "metadata": {},
     "output_type": "display_data"
    }
   ],
   "source": [
    "most_frequent_tokens = {}\n",
    "for language in tokenized_sample.language.unique():\n",
    "    code_for_language = tokenized_sample[tokenized_sample[\"language\"] == language]\n",
    "    token_frequency = {}\n",
    "    for code in code_for_language.code:\n",
    "        for token in code:\n",
    "            token_frequency[token] = token_frequency.get(token, 0) + 1\n",
    "    print(f'Number to different tokens: {len(token_frequency)}')\n",
    "\n",
    "    token_frequency_sorted = sorted(token_frequency.items(), key=lambda x: x[1], reverse=True)\n",
    "    most_frequent_tokens[language] = token_frequency_sorted[0:3]\n",
    "    print(f'10 most frequent tokens for {language}:')\n",
    "    for token, freq in token_frequency_sorted[:10]:\n",
    "        print(f' {token}: {freq}')\n",
    "\n",
    "    token_frequency_meta = {}\n",
    "    for m in [10,20,30,40,50,60,70,80,90,100, 120, 140, 160, 180, 200, 250, 300, 350, 400, 450, 500, 600, 700, 800, 900, 1000]:\n",
    "        for token, freq in token_frequency.items():\n",
    "            if freq >= m:\n",
    "                token_frequency_meta[m] = token_frequency_meta.get(m, 0) + 1\n",
    "    plt.plot(list(token_frequency_meta.keys()), list(token_frequency_meta.values()), label=language)\n",
    "\n",
    "plt.title('Vocabulary size by minimum token frequency')\n",
    "plt.xlabel('Minimum token frequency')\n",
    "plt.ylabel('Vocabulary size')\n",
    "plt.legend()\n",
    "plt.show()"
   ]
  },
  {
   "cell_type": "code",
   "execution_count": 16,
   "metadata": {
    "collapsed": false
   },
   "outputs": [
    {
     "data": {
      "text/plain": [
       "[('HIWORD', 0.38304567337036133),\n",
       " ('PHP_POSIX_NO_ARGS', 0.36087682843208313),\n",
       " ('PHP_POSIX_RETURN_LONG_FUNC', 0.3482794463634491),\n",
       " ('_DWORD', 0.33336538076400757),\n",
       " ('OSI_FUNCS_TIME_BLOCKING', 0.3303515911102295),\n",
       " ('DWORD', 0.3292984664440155),\n",
       " ('O_TRUNC', 0.3249448537826538),\n",
       " ('MAX_CAPACITY_NUM', 0.32314446568489075),\n",
       " ('PHP_POSIX_SINGLE_ARG_FUNC', 0.3219619691371918),\n",
       " ('WORD', 0.31303200125694275)]"
      ]
     },
     "execution_count": 16,
     "metadata": {},
     "output_type": "execute_result"
    }
   ],
   "source": [
    "complete_model.wv.most_similar(positive=['C++_if'], negative=['Python_if', 'C#_if'])\n"
   ]
  },
  {
   "cell_type": "code",
   "execution_count": 30,
   "metadata": {
    "collapsed": false
   },
   "outputs": [],
   "source": [
    "average_token_length = {}\n",
    "for language in tokenized_sample.language.unique():\n",
    "    code_for_language = tokenized_sample[tokenized_sample[\"language\"] == language].code\n",
    "    \n",
    "    # get average code length for all elements in code_for_language. round to 2 decimals\n",
    "    code_lengths = [len(code) for code in code_for_language]\n",
    "    average_token_length[language] = round(sum(code_lengths) / len(code_lengths), 2)\n",
    "    #print(f'Average amount of tokens for {language}: {average_code_length}')"
   ]
  },
  {
   "cell_type": "code",
   "execution_count": 71,
   "metadata": {
    "collapsed": false
   },
   "outputs": [
    {
     "name": "stdout",
     "output_type": "stream",
     "text": [
      "|    | C++ | Go | C# | Python |\n",
      "|---|---|---|---|---|\n",
      "| Avg. tokens per file | 1545.66 | 2136.9 | 1218.43 | 1889.92 |\n",
      "| Most frequent keyword | VARIABLE | VARIABLE | . | VARIABLE |\n",
      "| 2nd most frequent keyword | , | , | VARIABLE | , |\n",
      "| 3rd most frequent keyword | ; | . | ( | STRING_LITERAL |\n",
      "| Number of keywords | 95 | 25 | 79 | 33 |\n"
     ]
    }
   ],
   "source": [
    "# most_frequent_tokens is a list of tuples (token, frequency) for each language\n",
    "# we want to print the token, so we need to extract it from the tuple and join it with a comma. surround each token with backticks to make it a code block\n",
    "joined_tokens = {language: '  '.join([token for token, _ in tokens]) for language, tokens in most_frequent_tokens.items()}\n",
    "\n",
    "# make a markdown table with one column per language\n",
    "print('|    | C++ | Go | C# | Python |')\n",
    "print('|---|---|---|---|---|')\n",
    "print(f'| Avg. tokens per file | {average_token_length[\"C++\"]} | {average_token_length[\"Go\"]} | {average_token_length[\"C#\"]} | {average_token_length[\"Python\"]} |')\n",
    "print(f'| Most frequent token | {most_frequent_tokens[\"C++\"][0][0]} | {most_frequent_tokens[\"Go\"][0][0]} | {most_frequent_tokens[\"C#\"][0][0]} | {most_frequent_tokens[\"Python\"][0][0]} |')\n",
    "print(f'| 2nd most frequent token | {most_frequent_tokens[\"C++\"][1][0]} | {most_frequent_tokens[\"Go\"][1][0]} | {most_frequent_tokens[\"C#\"][1][0]} | {most_frequent_tokens[\"Python\"][1][0]} |')\n",
    "print(f'| 3rd most frequent token | {most_frequent_tokens[\"C++\"][2][0]} | {most_frequent_tokens[\"Go\"][2][0]} | {most_frequent_tokens[\"C#\"][2][0]} | {most_frequent_tokens[\"Python\"][2][0]} |')\n",
    "print(f'| Number of keywords | 95 | 25 | 79 | 33 |')"
   ]
  },
  {
   "attachments": {},
   "cell_type": "markdown",
   "metadata": {},
   "source": [
    "|    | C++ | Go | C# | Python |\n",
    "|---|---|---|---|---|\n",
    "| Avg. tokens per file | 1545.66 | 2136.9 | 1218.43 | 1889.92 |\n",
    "| Most frequent keyword | VARIABLE | VARIABLE | . | VARIABLE |\n",
    "| 2nd most frequent keyword | , | , | VARIABLE | , |\n",
    "| 3rd most frequent keyword | ; | . | ( | STRING_LITERAL |\n",
    "| Number of keywords | 95 | 25 | 79 | 33 |"
   ]
  }
 ],
 "metadata": {
  "kernelspec": {
   "display_name": "venv",
   "language": "python",
   "name": "python3"
  },
  "language_info": {
   "codemirror_mode": {
    "name": "ipython",
    "version": 3
   },
   "file_extension": ".py",
   "mimetype": "text/x-python",
   "name": "python",
   "nbconvert_exporter": "python",
   "pygments_lexer": "ipython3",
   "version": "3.9.6"
  },
  "orig_nbformat": 4,
  "vscode": {
   "interpreter": {
    "hash": "ecf525fa6bd467c617e65040e889bf18c705f04f170ec06b87dd5514f11bae3e"
   }
  }
 },
 "nbformat": 4,
 "nbformat_minor": 2
}
