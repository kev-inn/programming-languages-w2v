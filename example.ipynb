{
 "cells": [
  {
   "cell_type": "code",
   "execution_count": 1,
   "metadata": {},
   "outputs": [],
   "source": [
    "import re\n",
    "\n",
    "import pandas as pd\n",
    "import numpy as np\n",
    "import seaborn as sns\n",
    "import matplotlib.pyplot as plt\n",
    "import gensim\n",
    "from gensim.models import Word2Vec\n",
    "from tqdm.notebook import tqdm\n",
    "\n",
    "from sklearn.model_selection import train_test_split\n",
    "\n",
    "from src.dataset import read_lang_dataset, tokenize_dataset, get_vocab_mapping, gateways"
   ]
  },
  {
   "cell_type": "code",
   "execution_count": 2,
   "metadata": {},
   "outputs": [
    {
     "data": {
      "text/html": [
       "<div>\n",
       "<style scoped>\n",
       "    .dataframe tbody tr th:only-of-type {\n",
       "        vertical-align: middle;\n",
       "    }\n",
       "\n",
       "    .dataframe tbody tr th {\n",
       "        vertical-align: top;\n",
       "    }\n",
       "\n",
       "    .dataframe thead th {\n",
       "        text-align: right;\n",
       "    }\n",
       "</style>\n",
       "<table border=\"1\" class=\"dataframe\">\n",
       "  <thead>\n",
       "    <tr style=\"text-align: right;\">\n",
       "      <th></th>\n",
       "      <th>language</th>\n",
       "      <th>code</th>\n",
       "    </tr>\n",
       "  </thead>\n",
       "  <tbody>\n",
       "    <tr>\n",
       "      <th>0</th>\n",
       "      <td>Go</td>\n",
       "      <td>package handler\\n\\nimport (\\n\\t\"log\"\\n\\t\"net/h...</td>\n",
       "    </tr>\n",
       "    <tr>\n",
       "      <th>1</th>\n",
       "      <td>Go</td>\n",
       "      <td>package main\\n\\nimport (\\n\\t\"encoding/json\"\\n\\...</td>\n",
       "    </tr>\n",
       "    <tr>\n",
       "      <th>2</th>\n",
       "      <td>Go</td>\n",
       "      <td>package main\\n\\nimport (\\n\\t\"context\"\\n\\t\"log\"...</td>\n",
       "    </tr>\n",
       "    <tr>\n",
       "      <th>3</th>\n",
       "      <td>Go</td>\n",
       "      <td>package model\\n\\nimport (\\n\\t\"database/sql/dri...</td>\n",
       "    </tr>\n",
       "    <tr>\n",
       "      <th>4</th>\n",
       "      <td>Go</td>\n",
       "      <td>package db\\n\\nimport (\\n\\t\"context\"\\n\\n\\t\"gith...</td>\n",
       "    </tr>\n",
       "    <tr>\n",
       "      <th>...</th>\n",
       "      <td>...</td>\n",
       "      <td>...</td>\n",
       "    </tr>\n",
       "    <tr>\n",
       "      <th>2198</th>\n",
       "      <td>Go</td>\n",
       "      <td>package postgresql\\n\\nimport (\\n\\t\"database/sq...</td>\n",
       "    </tr>\n",
       "    <tr>\n",
       "      <th>2199</th>\n",
       "      <td>Go</td>\n",
       "      <td>package web\\n\\nimport (\\n\\t\"database/sql\"\\n\\t\"...</td>\n",
       "    </tr>\n",
       "    <tr>\n",
       "      <th>2200</th>\n",
       "      <td>Go</td>\n",
       "      <td>// Copyright (C) 2019-2021, Ava Labs, Inc. All...</td>\n",
       "    </tr>\n",
       "    <tr>\n",
       "      <th>2201</th>\n",
       "      <td>Go</td>\n",
       "      <td>package database\\n\\nimport (\\n\\t\"database/sql\"...</td>\n",
       "    </tr>\n",
       "    <tr>\n",
       "      <th>2202</th>\n",
       "      <td>Go</td>\n",
       "      <td>package azure\\n\\nimport (\\n\\t\"fmt\"\\n\\t\"log\"\\n\\...</td>\n",
       "    </tr>\n",
       "  </tbody>\n",
       "</table>\n",
       "<p>2203 rows × 2 columns</p>\n",
       "</div>"
      ],
      "text/plain": [
       "     language                                               code\n",
       "0          Go  package handler\\n\\nimport (\\n\\t\"log\"\\n\\t\"net/h...\n",
       "1          Go  package main\\n\\nimport (\\n\\t\"encoding/json\"\\n\\...\n",
       "2          Go  package main\\n\\nimport (\\n\\t\"context\"\\n\\t\"log\"...\n",
       "3          Go  package model\\n\\nimport (\\n\\t\"database/sql/dri...\n",
       "4          Go  package db\\n\\nimport (\\n\\t\"context\"\\n\\n\\t\"gith...\n",
       "...       ...                                                ...\n",
       "2198       Go  package postgresql\\n\\nimport (\\n\\t\"database/sq...\n",
       "2199       Go  package web\\n\\nimport (\\n\\t\"database/sql\"\\n\\t\"...\n",
       "2200       Go  // Copyright (C) 2019-2021, Ava Labs, Inc. All...\n",
       "2201       Go  package database\\n\\nimport (\\n\\t\"database/sql\"...\n",
       "2202       Go  package azure\\n\\nimport (\\n\\t\"fmt\"\\n\\t\"log\"\\n\\...\n",
       "\n",
       "[2203 rows x 2 columns]"
      ]
     },
     "execution_count": 2,
     "metadata": {},
     "output_type": "execute_result"
    }
   ],
   "source": [
    "csharp_df = read_lang_dataset(\"data/codes_go.db\")\n",
    "csharp_df"
   ]
  },
  {
   "cell_type": "code",
   "execution_count": 3,
   "metadata": {},
   "outputs": [
    {
     "data": {
      "text/plain": [
       "['package', 'cmd', '\\n\\n', 'import', '(', 'STRING_LITERAL', '\\n', 'STRING_LITERAL', '\\n', 'STRING_LITERAL', '\\n', 'STRING_LITERAL', '\\n', 'STRING_LITERAL', '\\n', 'STRING_LITERAL', '\\n\\n', 'STRING_LITERAL', '\\n', 'STRING_LITERAL', '\\n', 'fliptserver', 'STRING_LITERAL', '\\n', 'STRING_LITERAL', '\\n', 'STRING_LITERAL', '\\n', 'STRING_LITERAL', '\\n', 'STRING_LITERAL', '\\n', 'middlewaregrpc', 'STRING_LITERAL', '\\n', 'STRING_LITERAL', '\\n', 'authsql', 'STRING_LITERAL', '\\n', 'oplocksql', 'STRING_LITERAL', '\\n', 'STRING_LITERAL', '\\n', 'STRING_LITERAL', '\\n', 'STRING_LITERAL', '\\n', 'STRING_LITERAL', '\\n', 'STRING_LITERAL', '\\n', 'STRING_LITERAL', '\\n', 'STRING_LITERAL', '\\n', 'STRING_LITERAL', '\\n', 'STRING_LITERAL', '\\n', 'tracesdk', 'STRING_LITERAL', '\\n', 'semconv', 'STRING_LITERAL', '\\n', 'STRING_LITERAL', '\\n', 'STRING_LITERAL', '\\n', 'STRING_LITERAL', '\\n', 'STRING_LITERAL', '\\n', 'STRING_LITERAL', '\\n', 'STRING_LITERAL', '\\n\\n', 'grpc_middleware', 'STRING_LITERAL', '\\n', 'grpc_zap', 'STRING_LITERAL', '\\n', 'grpc_recovery', 'STRING_LITERAL', '\\n', 'grpc_ctxtags', 'STRING_LITERAL', '\\n', 'grpc_prometheus', 'STRING_LITERAL', '\\n\\n', 'goredis_cache', 'STRING_LITERAL', '\\n', 'goredis', 'STRING_LITERAL', '\\n', ')', '\\n\\n', 'type', 'grpcRegister', 'interface', '{', 'RegisterGRPC', '(', '*', 'grpc', '.', 'Server', ')', '\\n', '}', '\\n\\n', 'type', 'grpcRegisterers', '[', ']', 'grpcRegister', '\\n\\n', 'func', '(', 'VARIABLE', '*', 'grpcRegisterers', ')', 'Add', '(', 'VARIABLE', 'grpcRegister', ')', '{', '*', 'VARIABLE', '=', 'append', '(', '*', 'VARIABLE', ',', 'VARIABLE', ')', '\\n', '}', '\\n\\n', 'func', '(', 'VARIABLE', 'grpcRegisterers', ')', 'RegisterGRPC', '(', 'VARIABLE', '*', 'grpc', '.', 'Server', ')', '{', 'for', '_', ',', 'register', ':=', 'range', 'VARIABLE', '{', 'register', '.', 'RegisterGRPC', '(', 'VARIABLE', ')', '\\n', '}', '\\n', '}', '\\n\\n', 'type', 'GRPCServer', 'struct', '{', '*', 'grpc', '.', 'Server', '\\n\\n', 'VARIABLE', '*', 'zap', '.', 'Logger', '\\n', 'VARIABLE', '*', 'config', '.', 'Config', '\\n', 'VARIABLE', 'net', '.', 'Listener', '\\n\\n', 'VARIABLE', '[', ']', 'func', '(', 'context', '.', 'Context', ')', 'error', '\\n', '}', '\\n\\n', 'func', 'NewGRPCServer', '(', 'VARIABLE', 'context', '.', 'Context', ',', 'VARIABLE', '*', 'zap', '.', 'Logger', ',', 'VARIABLE', '*', 'config', '.', 'Config', ',', 'VARIABLE', 'VARIABLE', '.', 'Flipt', ',', ')', '(', '*', 'GRPCServer', ',', 'error', ')', '{', 'VARIABLE', '=', 'VARIABLE', '.', 'With', '(', 'zap', '.', 'String', '(', 'STRING_LITERAL', ',', 'STRING_LITERAL', ')', ')', '\\n', 'VARIABLE', ':=', '&', 'GRPCServer', '{', 'VARIABLE', ':', 'VARIABLE', ',', 'VARIABLE', ':', 'VARIABLE', ',', '}', '\\n\\n', 'var', 'VARIABLE', 'error', '\\n', 'VARIABLE', '.', 'ln', ',', 'VARIABLE', '=', 'net', '.', 'Listen', '(', 'STRING_LITERAL', ',', 'fmt', '.', 'Sprintf', '(', 'STRING_LITERAL', ',', 'VARIABLE', '.', 'Server', '.', 'Host', ',', 'VARIABLE', '.', 'Server', '.', 'GRPCPort', ')', ')', '\\n', 'if', 'VARIABLE', '!=', 'nil', '{', 'return', 'nil', ',', 'fmt', '.', 'Errorf', '(', 'STRING_LITERAL', ',', 'VARIABLE', ')', '\\n', '}', '\\n\\n', 'VARIABLE', '.', 'onShutdown', '(', 'func', '(', 'context', '.', 'Context', ')', 'error', '{', 'return', 'VARIABLE', '.', 'ln', '.', 'Close', '(', ')', '\\n', '}', ')', '\\n\\n', 'VARIABLE', ',', 'VARIABLE', ',', 'VARIABLE', ':=', 'sql', '.', 'Open', '(', '*', 'VARIABLE', ')', '\\n', 'if', 'VARIABLE', '!=', 'nil', '{', 'return', 'nil', ',', 'fmt', '.', 'Errorf', '(', 'STRING_LITERAL', ',', 'VARIABLE', ')', '\\n', '}', '\\n\\n', 'VARIABLE', '.', 'onShutdown', '(', 'func', '(', 'context', '.', 'Context', ')', 'error', '{', 'return', 'VARIABLE', '.', 'Close', '(', ')', '\\n', '}', ')', '\\n\\n', 'if', 'VARIABLE', ':=', 'VARIABLE', '.', 'PingContext', '(', 'VARIABLE', ')', ';', 'VARIABLE', '!=', 'nil', '{', 'return', 'nil', ',', 'fmt', '.', 'Errorf', '(', 'STRING_LITERAL', ',', 'VARIABLE', ')', '\\n', '}', '\\n\\n', 'var', 'VARIABLE', 'storage', '.', 'Store', '\\n\\n', 'switch', 'VARIABLE', '{', 'case', 'sql', '.', 'SQLite', ':', 'VARIABLE', '=', 'sqlite', '.', 'NewStore', '(', 'VARIABLE', ',', 'VARIABLE', ')', '\\n', 'case', 'sql', '.', 'Postgres', ',', 'sql', '.', 'CockroachDB', ':', 'VARIABLE', '=', 'postgres', '.', 'NewStore', '(', 'VARIABLE', ',', 'VARIABLE', ')', '\\n', 'case', 'sql', '.', 'MySQL', ':', 'VARIABLE', '=', 'mysql', '.', 'NewStore', '(', 'VARIABLE', ',', 'VARIABLE', ')', '\\n', 'default', ':', 'return', 'nil', ',', 'fmt', '.', 'Errorf', '(', 'STRING_LITERAL', ',', 'VARIABLE', ')', '\\n', '}', '\\n\\n', 'VARIABLE', '.', 'Debug', '(', 'STRING_LITERAL', ',', 'zap', '.', 'Stringer', '(', 'STRING_LITERAL', ',', 'VARIABLE', ')', ')', '\\n\\n', 'var', 'VARIABLE', '=', 'trace', '.', 'NewNoopTracerProvider', '(', ')', '\\n\\n', 'if', 'VARIABLE', '.', 'Tracing', '.', 'Jaeger', '.', 'Enabled', '{', 'VARIABLE', '.', 'Debug', '(', 'STRING_LITERAL', ',', 'zap', '.', 'String', '(', 'STRING_LITERAL', ',', 'STRING_LITERAL', ')', ')', '\\n', 'VARIABLE', ',', 'VARIABLE', ':=', 'jaeger', '.', 'New', '(', 'jaeger', '.', 'WithAgentEndpoint', '(', 'jaeger', '.', 'WithAgentHost', '(', 'VARIABLE', '.', 'Tracing', '.', 'Jaeger', '.', 'Host', ')', ',', 'jaeger', '.', 'WithAgentPort', '(', 'strconv', '.', 'FormatInt', '(', 'int64', '(', 'VARIABLE', '.', 'Tracing', '.', 'Jaeger', '.', 'Port', ')', ',', 'INT_LITERAL', ')', ')', ',', ')', ')', '\\n', 'if', 'VARIABLE', '!=', 'nil', '{', 'return', 'nil', ',', 'VARIABLE', '\\n', '}', '\\n\\n', 'VARIABLE', '=', 'tracesdk', '.', 'NewTracerProvider', '(', 'tracesdk', '.', 'WithBatcher', '(', 'VARIABLE', ',', 'tracesdk', '.', 'WithBatchTimeout', '(', 'INT_LITERAL', '*', 'time', '.', 'Second', ')', ',', ')', ',', 'tracesdk', '.', 'WithResource', '(', 'resource', '.', 'NewWithAttributes', '(', 'semconv', '.', 'SchemaURL', ',', 'semconv', '.', 'ServiceNameKey', '.', 'String', '(', 'STRING_LITERAL', ')', ',', ')', ')', ',', 'tracesdk', '.', 'WithSampler', '(', 'tracesdk', '.', 'AlwaysSample', '(', ')', ')', ',', ')', '\\n', '}', '\\n\\n', 'otel', '.', 'SetTracerProvider', '(', 'VARIABLE', ')', '\\n', 'otel', '.', 'SetTextMapPropagator', '(', 'propagation', '.', 'NewCompositeTextMapPropagator', '(', 'propagation', '.', 'TraceContext', '{', '}', ',', 'propagation', '.', 'Baggage', '{', '}', ')', ')', '\\n\\n', 'var', '(', 'VARIABLE', '=', 'sql', '.', 'BuilderFor', '(', 'VARIABLE', ',', 'VARIABLE', ')', '\\n', 'VARIABLE', '=', 'authsql', '.', 'NewStore', '(', 'VARIABLE', ',', 'VARIABLE', ',', 'VARIABLE', ')', '\\n', 'VARIABLE', '=', 'oplocksql', '.', 'New', '(', 'VARIABLE', ',', 'VARIABLE', ',', 'VARIABLE', ')', '\\n', ')', '\\n\\n', 'VARIABLE', ',', 'VARIABLE', ',', 'VARIABLE', ',', 'VARIABLE', ':=', 'authenticationGRPC', '(', 'VARIABLE', ',', 'VARIABLE', ',', 'VARIABLE', '.', 'Authentication', ',', 'VARIABLE', ',', 'VARIABLE', ',', ')', '\\n', 'if', 'VARIABLE', '!=', 'nil', '{', 'return', 'nil', ',', 'VARIABLE', '\\n', '}', '\\n\\n', 'VARIABLE', '.', 'onShutdown', '(', 'VARIABLE', ')', '\\n\\n', 'VARIABLE', ',', 'VARIABLE', ':=', 'zapcore', '.', 'ParseLevel', '(', 'VARIABLE', '.', 'Log', '.', 'GRPCLevel', ')', '\\n', 'if', 'VARIABLE', '!=', 'nil', '{', 'return', 'nil', ',', 'fmt', '.', 'Errorf', '(', 'STRING_LITERAL', ',', 'VARIABLE', '.', 'Log', '.', 'GRPCLevel', ',', 'VARIABLE', ')', '\\n', '}', '\\n\\n', 'grpc_zap', '.', 'ReplaceGrpcLoggerV2', '(', 'VARIABLE', '.', 'WithOptions', '(', 'zap', '.', 'IncreaseLevel', '(', 'VARIABLE', ')', ')', ')', '\\n\\n', 'VARIABLE', ':=', 'append', '(', '[', ']', 'grpc', '.', 'UnaryServerInterceptor', '{', 'grpc_recovery', '.', 'UnaryServerInterceptor', '(', ')', ',', 'grpc_ctxtags', '.', 'UnaryServerInterceptor', '(', ')', ',', 'grpc_zap', '.', 'UnaryServerInterceptor', '(', 'VARIABLE', ')', ',', 'grpc_prometheus', '.', 'UnaryServerInterceptor', ',', 'otelgrpc', '.', 'UnaryServerInterceptor', '(', ')', ',', '}', ',', 'append', '(', 'VARIABLE', ',', 'middlewaregrpc', '.', 'ErrorUnaryInterceptor', ',', 'middlewaregrpc', '.', 'ValidationUnaryInterceptor', ',', 'middlewaregrpc', '.', 'EvaluationUnaryInterceptor', ',', ')', '...', ',', ')', '\\n\\n', 'if', 'VARIABLE', '.', 'Cache', '.', 'Enabled', '{', 'var', 'VARIABLE', 'cache', '.', 'Cacher', '\\n\\n', 'switch', 'VARIABLE', '.', 'Cache', '.', 'Backend', '{', 'case', 'config', '.', 'CacheMemory', ':', 'VARIABLE', '=', 'memory', '.', 'NewCache', '(', 'VARIABLE', '.', 'Cache', ')', '\\n', 'case', 'config', '.', 'CacheRedis', ':', 'VARIABLE', ':=', 'goredis', '.', 'NewClient', '(', '&', 'goredis', '.', 'Options', '{', 'Addr', ':', 'fmt', '.', 'Sprintf', '(', 'STRING_LITERAL', ',', 'VARIABLE', '.', 'Cache', '.', 'Redis', '.', 'Host', ',', 'VARIABLE', '.', 'Cache', '.', 'Redis', '.', 'Port', ')', ',', 'Password', ':', 'VARIABLE', '.', 'Cache', '.', 'Redis', '.', 'Password', ',', 'DB', ':', 'VARIABLE', '.', 'Cache', '.', 'Redis', '.', 'DB', ',', '}', ')', '\\n\\n', 'VARIABLE', '.', 'onShutdown', '(', 'func', '(', 'VARIABLE', 'context', '.', 'Context', ')', 'error', '{', 'return', 'VARIABLE', '.', 'Shutdown', '(', 'VARIABLE', ')', '.', 'Err', '(', ')', '\\n', '}', ')', '\\n\\n', 'VARIABLE', ':=', 'VARIABLE', '.', 'Ping', '(', 'VARIABLE', ')', '\\n', 'if', 'VARIABLE', '==', 'nil', '{', 'return', 'nil', ',', 'errors', '.', 'New', '(', 'STRING_LITERAL', ')', '\\n', '}', '\\n\\n', 'if', 'VARIABLE', '.', 'Err', '(', ')', '!=', 'nil', '{', 'return', 'nil', ',', 'fmt', '.', 'Errorf', '(', 'STRING_LITERAL', ',', 'VARIABLE', '.', 'Err', '(', ')', ')', '\\n', '}', '\\n\\n', 'VARIABLE', '=', 'redis', '.', 'NewCache', '(', 'VARIABLE', '.', 'Cache', ',', 'goredis_cache', '.', 'New', '(', '&', 'goredis_cache', '.', 'Options', '{', 'Redis', ':', 'VARIABLE', ',', '}', ')', ')', '\\n', '}', '\\n\\n', 'VARIABLE', '=', 'append', '(', 'VARIABLE', ',', 'middlewaregrpc', '.', 'CacheUnaryInterceptor', '(', 'VARIABLE', ',', 'VARIABLE', ')', ')', '\\n\\n', 'VARIABLE', '.', 'Debug', '(', 'STRING_LITERAL', ',', 'zap', '.', 'Stringer', '(', 'STRING_LITERAL', ',', 'VARIABLE', ')', ')', '\\n', '}', '\\n\\n', 'VARIABLE', ':=', '[', ']', 'grpc', '.', 'ServerOption', '{', 'grpc_middleware', '.', 'WithUnaryServerChain', '(', 'VARIABLE', '...', ')', '}', '\\n\\n', 'if', 'VARIABLE', '.', 'Server', '.', 'Protocol', '==', 'config', '.', 'HTTPS', '{', 'VARIABLE', ',', 'VARIABLE', ':=', 'credentials', '.', 'NewServerTLSFromFile', '(', 'VARIABLE', '.', 'Server', '.', 'CertFile', ',', 'VARIABLE', '.', 'Server', '.', 'CertKey', ')', '\\n', 'if', 'VARIABLE', '!=', 'nil', '{', 'return', 'nil', ',', 'fmt', '.', 'Errorf', '(', 'STRING_LITERAL', ',', 'VARIABLE', ')', '\\n', '}', '\\n\\n', 'VARIABLE', '=', 'append', '(', 'VARIABLE', ',', 'grpc', '.', 'Creds', '(', 'VARIABLE', ')', ')', '\\n', '}', '\\n\\n', 'VARIABLE', '.', 'Add', '(', 'fliptserver', '.', 'New', '(', 'VARIABLE', ',', 'VARIABLE', ')', ')', '\\n', 'VARIABLE', '.', 'Add', '(', 'metadata', '.', 'NewServer', '(', 'VARIABLE', ',', 'VARIABLE', ')', ')', '\\n\\n', 'VARIABLE', '.', 'Server', '=', 'grpc', '.', 'NewServer', '(', 'VARIABLE', '...', ')', '\\n\\n', 'VARIABLE', '.', 'onShutdown', '(', 'func', '(', 'context', '.', 'Context', ')', 'error', '{', 'VARIABLE', '.', 'Info', '(', 'STRING_LITERAL', ')', '\\n\\n', 'VARIABLE', '.', 'Server', '.', 'GracefulStop', '(', ')', '\\n\\n', 'return', 'nil', '\\n', '}', ')', '\\n\\n', 'VARIABLE', '.', 'RegisterGRPC', '(', 'VARIABLE', '.', 'Server', ')', '\\n\\n', 'grpc_prometheus', '.', 'EnableHandlingTimeHistogram', '(', ')', '\\n', 'grpc_prometheus', '.', 'Register', '(', 'VARIABLE', '.', 'Server', ')', '\\n', 'reflection', '.', 'Register', '(', 'VARIABLE', '.', 'Server', ')', '\\n\\n', 'return', 'VARIABLE', ',', 'nil', '\\n', '}', '\\n\\n', 'func', '(', 'VARIABLE', '*', 'GRPCServer', ')', 'Run', '(', ')', 'error', '{', 'VARIABLE', '.', 'VARIABLE', '.', 'Debug', '(', 'STRING_LITERAL', ')', '\\n\\n', 'return', 'VARIABLE', '.', 'Server', '.', 'Serve', '(', 'VARIABLE', '.', 'ln', ')', '\\n', '}', '\\n\\n', 'func', '(', 'VARIABLE', '*', 'GRPCServer', ')', 'Shutdown', '(', 'VARIABLE', 'context', '.', 'Context', ')', 'error', '{', 'VARIABLE', '.', 'VARIABLE', '.', 'Info', '(', 'STRING_LITERAL', ')', '\\n\\n', 'for', 'VARIABLE', ':=', 'len', '(', 'VARIABLE', '.', 'shutdownFuncs', ')', '-', 'INT_LITERAL', ';', 'VARIABLE', '>=', 'INT_LITERAL', ';', 'VARIABLE', '--', '{', 'if', 'VARIABLE', ':=', 'VARIABLE', '.', 'shutdownFuncs', '[', 'VARIABLE', ']', '(', 'VARIABLE', ')', ';', 'VARIABLE', '!=', 'nil', '{', 'return', 'VARIABLE', '\\n', '}', '\\n', '}', '\\n\\n', 'return', 'nil', '\\n', '}', '\\n\\n', 'func', '(', 'VARIABLE', '*', 'GRPCServer', ')', 'onShutdown', '(', 'VARIABLE', 'func', '(', 'context', '.', 'Context', ')', 'error', ')', '{', 'VARIABLE', '.', 'shutdownFuncs', '=', 'append', '(', 'VARIABLE', '.', 'shutdownFuncs', ',', 'VARIABLE', ')', '\\n', '}', '\\n', '<EOF>']"
      ]
     },
     "execution_count": 3,
     "metadata": {},
     "output_type": "execute_result"
    }
   ],
   "source": [
    "gateways[0].jvm.com.codetokenizer.Tokenizer.tokenizeGo(csharp_df.code[8])"
   ]
  },
  {
   "cell_type": "code",
   "execution_count": 4,
   "metadata": {},
   "outputs": [
    {
     "name": "stderr",
     "output_type": "stream",
     "text": [
      " 49%|████▉     | 1077/2203 [00:52<00:55, 20.33it/s]\n"
     ]
    },
    {
     "ename": "KeyboardInterrupt",
     "evalue": "",
     "output_type": "error",
     "traceback": [
      "\u001b[1;31m---------------------------------------------------------------------------\u001b[0m",
      "\u001b[1;31mIndexError\u001b[0m                                Traceback (most recent call last)",
      "File \u001b[1;32mC:\\Python310\\lib\\multiprocessing\\pool.py:853\u001b[0m, in \u001b[0;36mIMapIterator.next\u001b[1;34m(self, timeout)\u001b[0m\n\u001b[0;32m    852\u001b[0m \u001b[39mtry\u001b[39;00m:\n\u001b[1;32m--> 853\u001b[0m     item \u001b[39m=\u001b[39m \u001b[39mself\u001b[39;49m\u001b[39m.\u001b[39;49m_items\u001b[39m.\u001b[39;49mpopleft()\n\u001b[0;32m    854\u001b[0m \u001b[39mexcept\u001b[39;00m \u001b[39mIndexError\u001b[39;00m:\n",
      "\u001b[1;31mIndexError\u001b[0m: pop from an empty deque",
      "\nDuring handling of the above exception, another exception occurred:\n",
      "\u001b[1;31mKeyboardInterrupt\u001b[0m                         Traceback (most recent call last)",
      "Cell \u001b[1;32mIn[4], line 1\u001b[0m\n\u001b[1;32m----> 1\u001b[0m tokenized_sample \u001b[39m=\u001b[39m tokenize_dataset(csharp_df)\n\u001b[0;32m      2\u001b[0m tokenized_sample\n",
      "File \u001b[1;32mc:\\Users\\Kevin\\Documents\\vos\\w22air\\programming-languages-w2v\\src\\dataset.py:129\u001b[0m, in \u001b[0;36mtokenize_dataset\u001b[1;34m(dataset)\u001b[0m\n\u001b[0;32m    127\u001b[0m code_selection \u001b[39m=\u001b[39m dataset\u001b[39m.\u001b[39mcode[dataset\u001b[39m.\u001b[39mlanguage \u001b[39m==\u001b[39m language]\n\u001b[0;32m    128\u001b[0m \u001b[39mif\u001b[39;00m language \u001b[39min\u001b[39;00m SPECIALIZED_TOKENIZATION:\n\u001b[1;32m--> 129\u001b[0m     dataset\u001b[39m.\u001b[39mcode[dataset\u001b[39m.\u001b[39mlanguage \u001b[39m==\u001b[39m language] \u001b[39m=\u001b[39m SPECIALIZED_TOKENIZATION[\n\u001b[0;32m    130\u001b[0m         language\n\u001b[0;32m    131\u001b[0m     ](code_selection)\n\u001b[0;32m    132\u001b[0m \u001b[39melse\u001b[39;00m:\n\u001b[0;32m    133\u001b[0m     dataset\u001b[39m.\u001b[39mcode[dataset\u001b[39m.\u001b[39mlanguage \u001b[39m==\u001b[39m language] \u001b[39m=\u001b[39m _generic_regex_tokenization(\n\u001b[0;32m    134\u001b[0m         code_selection\n\u001b[0;32m    135\u001b[0m     )\n",
      "File \u001b[1;32mc:\\Users\\Kevin\\Documents\\vos\\w22air\\programming-languages-w2v\\src\\dataset.py:63\u001b[0m, in \u001b[0;36m_antlr_tokenization\u001b[1;34m(code, function_name)\u001b[0m\n\u001b[0;32m     61\u001b[0m \u001b[39mdef\u001b[39;00m \u001b[39m_antlr_tokenization\u001b[39m(code: pd\u001b[39m.\u001b[39mSeries, function_name: \u001b[39mstr\u001b[39m):\n\u001b[0;32m     62\u001b[0m     \u001b[39mwith\u001b[39;00m Pool(pool_size) \u001b[39mas\u001b[39;00m p:\n\u001b[1;32m---> 63\u001b[0m         tokenized_code \u001b[39m=\u001b[39m pd\u001b[39m.\u001b[39;49mSeries(\n\u001b[0;32m     64\u001b[0m             tqdm(\n\u001b[0;32m     65\u001b[0m                 p\u001b[39m.\u001b[39;49mimap(\n\u001b[0;32m     66\u001b[0m                     partial(code_tokenize_par, function_name\u001b[39m=\u001b[39;49mfunction_name),\n\u001b[0;32m     67\u001b[0m                     \u001b[39menumerate\u001b[39;49m(code),\n\u001b[0;32m     68\u001b[0m                 ),\n\u001b[0;32m     69\u001b[0m                 total\u001b[39m=\u001b[39;49m\u001b[39mlen\u001b[39;49m(code),\n\u001b[0;32m     70\u001b[0m                 smoothing\u001b[39m=\u001b[39;49m\u001b[39m0.0001\u001b[39;49m,\n\u001b[0;32m     71\u001b[0m             ),\n\u001b[0;32m     72\u001b[0m             index\u001b[39m=\u001b[39;49mcode\u001b[39m.\u001b[39;49mindex,\n\u001b[0;32m     73\u001b[0m             dtype\u001b[39m=\u001b[39;49m\u001b[39mobject\u001b[39;49m,\n\u001b[0;32m     74\u001b[0m         )\n\u001b[0;32m     75\u001b[0m     \u001b[39mreturn\u001b[39;00m tokenized_code\n",
      "File \u001b[1;32mc:\\Users\\Kevin\\Documents\\vos\\w22air\\programming-languages-w2v\\env\\lib\\site-packages\\pandas\\core\\series.py:470\u001b[0m, in \u001b[0;36mSeries.__init__\u001b[1;34m(self, data, index, dtype, name, copy, fastpath)\u001b[0m\n\u001b[0;32m    468\u001b[0m         data \u001b[39m=\u001b[39m data\u001b[39m.\u001b[39mcopy()\n\u001b[0;32m    469\u001b[0m \u001b[39melse\u001b[39;00m:\n\u001b[1;32m--> 470\u001b[0m     data \u001b[39m=\u001b[39m sanitize_array(data, index, dtype, copy)\n\u001b[0;32m    472\u001b[0m     manager \u001b[39m=\u001b[39m get_option(\u001b[39m\"\u001b[39m\u001b[39mmode.data_manager\u001b[39m\u001b[39m\"\u001b[39m)\n\u001b[0;32m    473\u001b[0m     \u001b[39mif\u001b[39;00m manager \u001b[39m==\u001b[39m \u001b[39m\"\u001b[39m\u001b[39mblock\u001b[39m\u001b[39m\"\u001b[39m:\n",
      "File \u001b[1;32mc:\\Users\\Kevin\\Documents\\vos\\w22air\\programming-languages-w2v\\env\\lib\\site-packages\\pandas\\core\\construction.py:618\u001b[0m, in \u001b[0;36msanitize_array\u001b[1;34m(data, index, dtype, copy, raise_cast_failure, allow_2d)\u001b[0m\n\u001b[0;32m    616\u001b[0m     data \u001b[39m=\u001b[39m np\u001b[39m.\u001b[39marray(data, copy\u001b[39m=\u001b[39mcopy)\n\u001b[0;32m    617\u001b[0m \u001b[39melse\u001b[39;00m:\n\u001b[1;32m--> 618\u001b[0m     data \u001b[39m=\u001b[39m \u001b[39mlist\u001b[39;49m(data)\n\u001b[0;32m    620\u001b[0m \u001b[39mif\u001b[39;00m dtype \u001b[39mis\u001b[39;00m \u001b[39mnot\u001b[39;00m \u001b[39mNone\u001b[39;00m \u001b[39mor\u001b[39;00m \u001b[39mlen\u001b[39m(data) \u001b[39m==\u001b[39m \u001b[39m0\u001b[39m:\n\u001b[0;32m    621\u001b[0m     \u001b[39mtry\u001b[39;00m:\n",
      "File \u001b[1;32mc:\\Users\\Kevin\\Documents\\vos\\w22air\\programming-languages-w2v\\env\\lib\\site-packages\\tqdm\\std.py:1195\u001b[0m, in \u001b[0;36mtqdm.__iter__\u001b[1;34m(self)\u001b[0m\n\u001b[0;32m   1192\u001b[0m time \u001b[39m=\u001b[39m \u001b[39mself\u001b[39m\u001b[39m.\u001b[39m_time\n\u001b[0;32m   1194\u001b[0m \u001b[39mtry\u001b[39;00m:\n\u001b[1;32m-> 1195\u001b[0m     \u001b[39mfor\u001b[39;00m obj \u001b[39min\u001b[39;00m iterable:\n\u001b[0;32m   1196\u001b[0m         \u001b[39myield\u001b[39;00m obj\n\u001b[0;32m   1197\u001b[0m         \u001b[39m# Update and possibly print the progressbar.\u001b[39;00m\n\u001b[0;32m   1198\u001b[0m         \u001b[39m# Note: does not call self.update(1) for speed optimisation.\u001b[39;00m\n",
      "File \u001b[1;32mC:\\Python310\\lib\\multiprocessing\\pool.py:858\u001b[0m, in \u001b[0;36mIMapIterator.next\u001b[1;34m(self, timeout)\u001b[0m\n\u001b[0;32m    856\u001b[0m     \u001b[39mself\u001b[39m\u001b[39m.\u001b[39m_pool \u001b[39m=\u001b[39m \u001b[39mNone\u001b[39;00m\n\u001b[0;32m    857\u001b[0m     \u001b[39mraise\u001b[39;00m \u001b[39mStopIteration\u001b[39;00m \u001b[39mfrom\u001b[39;00m \u001b[39mNone\u001b[39m\n\u001b[1;32m--> 858\u001b[0m \u001b[39mself\u001b[39;49m\u001b[39m.\u001b[39;49m_cond\u001b[39m.\u001b[39;49mwait(timeout)\n\u001b[0;32m    859\u001b[0m \u001b[39mtry\u001b[39;00m:\n\u001b[0;32m    860\u001b[0m     item \u001b[39m=\u001b[39m \u001b[39mself\u001b[39m\u001b[39m.\u001b[39m_items\u001b[39m.\u001b[39mpopleft()\n",
      "File \u001b[1;32mC:\\Python310\\lib\\threading.py:320\u001b[0m, in \u001b[0;36mCondition.wait\u001b[1;34m(self, timeout)\u001b[0m\n\u001b[0;32m    318\u001b[0m \u001b[39mtry\u001b[39;00m:    \u001b[39m# restore state no matter what (e.g., KeyboardInterrupt)\u001b[39;00m\n\u001b[0;32m    319\u001b[0m     \u001b[39mif\u001b[39;00m timeout \u001b[39mis\u001b[39;00m \u001b[39mNone\u001b[39;00m:\n\u001b[1;32m--> 320\u001b[0m         waiter\u001b[39m.\u001b[39;49macquire()\n\u001b[0;32m    321\u001b[0m         gotit \u001b[39m=\u001b[39m \u001b[39mTrue\u001b[39;00m\n\u001b[0;32m    322\u001b[0m     \u001b[39melse\u001b[39;00m:\n",
      "\u001b[1;31mKeyboardInterrupt\u001b[0m: "
     ]
    }
   ],
   "source": [
    "tokenized_sample = tokenize_dataset(csharp_df)\n",
    "tokenized_sample"
   ]
  },
  {
   "cell_type": "code",
   "execution_count": null,
   "metadata": {},
   "outputs": [
    {
     "name": "stderr",
     "output_type": "stream",
     "text": [
      "C:\\Users\\Kevin\\AppData\\Local\\Temp\\ipykernel_6236\\4078630244.py:1: SettingWithCopyWarning: \n",
      "A value is trying to be set on a copy of a slice from a DataFrame.\n",
      "Try using .loc[row_indexer,col_indexer] = value instead\n",
      "\n",
      "See the caveats in the documentation: https://pandas.pydata.org/pandas-docs/stable/user_guide/indexing.html#returning-a-view-versus-a-copy\n",
      "  csharp_df.iloc[7:9].code = \"\"\n"
     ]
    }
   ],
   "source": [
    "csharp_df.iloc[7:9].code = \"\""
   ]
  }
 ],
 "metadata": {
  "kernelspec": {
   "display_name": "env",
   "language": "python",
   "name": "python3"
  },
  "language_info": {
   "codemirror_mode": {
    "name": "ipython",
    "version": 3
   },
   "file_extension": ".py",
   "mimetype": "text/x-python",
   "name": "python",
   "nbconvert_exporter": "python",
   "pygments_lexer": "ipython3",
   "version": "3.10.5"
  },
  "orig_nbformat": 4,
  "vscode": {
   "interpreter": {
    "hash": "4ba882bed1965a54d4fef669f18faecb8d8e732d30288b3c8a5015454ba0d6c4"
   }
  }
 },
 "nbformat": 4,
 "nbformat_minor": 2
}
