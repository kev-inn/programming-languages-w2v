{
 "cells": [
  {
   "cell_type": "code",
   "execution_count": 1,
   "metadata": {},
   "outputs": [],
   "source": [
    "import re\n",
    "\n",
    "import pandas as pd\n",
    "\n",
    "from src.dataset import read_dataset, tokenize_dataset"
   ]
  },
  {
   "cell_type": "code",
   "execution_count": 2,
   "metadata": {},
   "outputs": [
    {
     "data": {
      "text/html": [
       "<div>\n",
       "<style scoped>\n",
       "    .dataframe tbody tr th:only-of-type {\n",
       "        vertical-align: middle;\n",
       "    }\n",
       "\n",
       "    .dataframe tbody tr th {\n",
       "        vertical-align: top;\n",
       "    }\n",
       "\n",
       "    .dataframe thead th {\n",
       "        text-align: right;\n",
       "    }\n",
       "</style>\n",
       "<table border=\"1\" class=\"dataframe\">\n",
       "  <thead>\n",
       "    <tr style=\"text-align: right;\">\n",
       "      <th></th>\n",
       "      <th>language</th>\n",
       "      <th>code</th>\n",
       "    </tr>\n",
       "  </thead>\n",
       "  <tbody>\n",
       "    <tr>\n",
       "      <th>0</th>\n",
       "      <td>Python</td>\n",
       "      <td>version = '7'\\nhtml_title = \"Guzzle Documentat...</td>\n",
       "    </tr>\n",
       "    <tr>\n",
       "      <th>1</th>\n",
       "      <td>Python</td>\n",
       "      <td># Path to a touch icon\\n    # \"touch_icon\"...</td>\n",
       "    </tr>\n",
       "    <tr>\n",
       "      <th>2</th>\n",
       "      <td>Python</td>\n",
       "      <td>\"base_url\": \"http://guzzlephp.org\"\\n\\n    ...</td>\n",
       "    </tr>\n",
       "    <tr>\n",
       "      <th>3</th>\n",
       "      <td>Python</td>\n",
       "      <td>from tensorflow.python.estimator.model_fn impo...</td>\n",
       "    </tr>\n",
       "    <tr>\n",
       "      <th>4</th>\n",
       "      <td>Python</td>\n",
       "      <td>self.assertFalse(gfile.Exists('ram://exist...</td>\n",
       "    </tr>\n",
       "    <tr>\n",
       "      <th>...</th>\n",
       "      <td>...</td>\n",
       "      <td>...</td>\n",
       "    </tr>\n",
       "    <tr>\n",
       "      <th>196460</th>\n",
       "      <td>Python</td>\n",
       "      <td>print(\"brody2:\", brody2)\\n\\n    cosDist = ...</td>\n",
       "    </tr>\n",
       "    <tr>\n",
       "      <th>196461</th>\n",
       "      <td>Python</td>\n",
       "      <td>\\n  def getJSCode(self):\\n    map = {\"paths\": ...</td>\n",
       "    </tr>\n",
       "    <tr>\n",
       "      <th>196462</th>\n",
       "      <td>Python</td>\n",
       "      <td>if not isPivot:\\n      simpleRing = shapel...</td>\n",
       "    </tr>\n",
       "    <tr>\n",
       "      <th>196463</th>\n",
       "      <td>Python</td>\n",
       "      <td>new_geometries.append( Geometry(shapely....</td>\n",
       "    </tr>\n",
       "    <tr>\n",
       "      <th>196464</th>\n",
       "      <td>Python</td>\n",
       "      <td>for geometry in data_source.geometries:\\n ...</td>\n",
       "    </tr>\n",
       "  </tbody>\n",
       "</table>\n",
       "<p>196465 rows × 2 columns</p>\n",
       "</div>"
      ],
      "text/plain": [
       "       language                                               code\n",
       "0        Python  version = '7'\\nhtml_title = \"Guzzle Documentat...\n",
       "1        Python      # Path to a touch icon\\n    # \"touch_icon\"...\n",
       "2        Python      \"base_url\": \"http://guzzlephp.org\"\\n\\n    ...\n",
       "3        Python  from tensorflow.python.estimator.model_fn impo...\n",
       "4        Python      self.assertFalse(gfile.Exists('ram://exist...\n",
       "...         ...                                                ...\n",
       "196460   Python      print(\"brody2:\", brody2)\\n\\n    cosDist = ...\n",
       "196461   Python  \\n  def getJSCode(self):\\n    map = {\"paths\": ...\n",
       "196462   Python      if not isPivot:\\n      simpleRing = shapel...\n",
       "196463   Python        new_geometries.append( Geometry(shapely....\n",
       "196464   Python      for geometry in data_source.geometries:\\n ...\n",
       "\n",
       "[196465 rows x 2 columns]"
      ]
     },
     "execution_count": 2,
     "metadata": {},
     "output_type": "execute_result"
    }
   ],
   "source": [
    "# replace path with local dataset path\n",
    "data = read_dataset(\"snippets-dev/snippets-dev.db\", \"Python\")\n",
    "data"
   ]
  },
  {
   "cell_type": "code",
   "execution_count": 3,
   "metadata": {},
   "outputs": [
    {
     "name": "stdout",
     "output_type": "stream",
     "text": [
      "###### Index  138506 ######\n",
      "    print(\"\\t                                   * A           *\")\n",
      "    print(\"\\t                                   *             *\")\n",
      "    print(\"\\t                                   *      *      *\")\n",
      "    print(\"\\t                                   *     ***     *\")\n",
      "    print(\"\\t                                   *    *****    *\")\n",
      "\n",
      "###########################\n",
      "###### Index   67705 ######\n",
      "            80,\n",
      "            27,\n",
      "            2,\n",
      "            7,\n",
      "            97,\n",
      "\n",
      "###########################\n",
      "###### Index   16740 ######\n",
      "                         idx + 1, self._thread_count, name)\n",
      "            thread = FSThread(name=name,\n",
      "                              target=self._target,\n",
      "                              args=self._args,\n",
      "                              kwargs=self._kwargs)\n",
      "\n",
      "###########################\n"
     ]
    }
   ],
   "source": [
    "for i, language, code in data.sample(3).itertuples():\n",
    "    print(f\"###### Index {i:7} ######\")\n",
    "    print(code)\n",
    "    print(f\"###########################\")"
   ]
  },
  {
   "cell_type": "code",
   "execution_count": 4,
   "metadata": {},
   "outputs": [
    {
     "name": "stderr",
     "output_type": "stream",
     "text": [
      "c:\\Python310\\lib\\site-packages\\pandas\\core\\apply.py:853: VisibleDeprecationWarning: Creating an ndarray from ragged nested sequences (which is a list-or-tuple of lists-or-tuples-or ndarrays with different lengths or shapes) is deprecated. If you meant to do this, you must specify 'dtype=object' when creating the ndarray.\n",
      "  ares = np.asarray(res).ndim\n"
     ]
    },
    {
     "data": {
      "text/html": [
       "<div>\n",
       "<style scoped>\n",
       "    .dataframe tbody tr th:only-of-type {\n",
       "        vertical-align: middle;\n",
       "    }\n",
       "\n",
       "    .dataframe tbody tr th {\n",
       "        vertical-align: top;\n",
       "    }\n",
       "\n",
       "    .dataframe thead th {\n",
       "        text-align: right;\n",
       "    }\n",
       "</style>\n",
       "<table border=\"1\" class=\"dataframe\">\n",
       "  <thead>\n",
       "    <tr style=\"text-align: right;\">\n",
       "      <th></th>\n",
       "      <th>language</th>\n",
       "      <th>code</th>\n",
       "    </tr>\n",
       "  </thead>\n",
       "  <tbody>\n",
       "    <tr>\n",
       "      <th>150738</th>\n",
       "      <td>Python</td>\n",
       "      <td>[def, _SetUpProductReferences, (, self, other_...</td>\n",
       "    </tr>\n",
       "    <tr>\n",
       "      <th>194545</th>\n",
       "      <td>Python</td>\n",
       "      <td>[\", \", \", \\n, Hierarchical, Sigmoid, Layer, .,...</td>\n",
       "    </tr>\n",
       "    <tr>\n",
       "      <th>56632</th>\n",
       "      <td>Python</td>\n",
       "      <td>[\\n, def, test_qs_exists_handles_value_error, ...</td>\n",
       "    </tr>\n",
       "    <tr>\n",
       "      <th>167076</th>\n",
       "      <td>Python</td>\n",
       "      <td>[formats, =, list, (, ctx, [, ', formats, ', ]...</td>\n",
       "    </tr>\n",
       "    <tr>\n",
       "      <th>95044</th>\n",
       "      <td>Python</td>\n",
       "      <td>[np, ., testing, ., assert_equal, (, list, (, ...</td>\n",
       "    </tr>\n",
       "  </tbody>\n",
       "</table>\n",
       "</div>"
      ],
      "text/plain": [
       "       language                                               code\n",
       "150738   Python  [def, _SetUpProductReferences, (, self, other_...\n",
       "194545   Python  [\", \", \", \\n, Hierarchical, Sigmoid, Layer, .,...\n",
       "56632    Python  [\\n, def, test_qs_exists_handles_value_error, ...\n",
       "167076   Python  [formats, =, list, (, ctx, [, ', formats, ', ]...\n",
       "95044    Python  [np, ., testing, ., assert_equal, (, list, (, ..."
      ]
     },
     "execution_count": 4,
     "metadata": {},
     "output_type": "execute_result"
    }
   ],
   "source": [
    "tokenize_dataset(data.sample(5))"
   ]
  },
  {
   "cell_type": "code",
   "execution_count": null,
   "metadata": {},
   "outputs": [],
   "source": []
  }
 ],
 "metadata": {
  "kernelspec": {
   "display_name": "Python 3",
   "language": "python",
   "name": "python3"
  },
  "language_info": {
   "codemirror_mode": {
    "name": "ipython",
    "version": 3
   },
   "file_extension": ".py",
   "mimetype": "text/x-python",
   "name": "python",
   "nbconvert_exporter": "python",
   "pygments_lexer": "ipython3",
   "version": "3.10.5"
  },
  "orig_nbformat": 4,
  "vscode": {
   "interpreter": {
    "hash": "369f2c481f4da34e4445cda3fffd2e751bd1c4d706f27375911949ba6bb62e1c"
   }
  }
 },
 "nbformat": 4,
 "nbformat_minor": 2
}
