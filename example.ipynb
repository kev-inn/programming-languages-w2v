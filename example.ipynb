{
 "cells": [
  {
   "cell_type": "code",
   "execution_count": 1,
   "metadata": {},
   "outputs": [],
   "source": [
    "import re\n",
    "from typing import List, Tuple\n",
    "\n",
    "import os\n",
    "import pandas as pd\n",
    "import numpy as np\n",
    "import seaborn as sns\n",
    "import matplotlib.pyplot as plt\n",
    "import gensim\n",
    "from gensim.models import Word2Vec, FastText\n",
    "from tqdm.notebook import tqdm\n",
    "\n",
    "from sklearn.decomposition import PCA\n",
    "from sklearn.model_selection import train_test_split\n",
    "\n",
    "from src.dataset import read_lang_dataset, tokenize_dataset, get_vocab_mapping, gateways\n",
    "\n",
    "sns.set_theme()\n",
    "sns.set(rc={'figure.figsize': (12, 8)})"
   ]
  },
  {
   "cell_type": "code",
   "execution_count": 2,
   "metadata": {},
   "outputs": [
    {
     "data": {
      "text/html": [
       "<div>\n",
       "<style scoped>\n",
       "    .dataframe tbody tr th:only-of-type {\n",
       "        vertical-align: middle;\n",
       "    }\n",
       "\n",
       "    .dataframe tbody tr th {\n",
       "        vertical-align: top;\n",
       "    }\n",
       "\n",
       "    .dataframe thead th {\n",
       "        text-align: right;\n",
       "    }\n",
       "</style>\n",
       "<table border=\"1\" class=\"dataframe\">\n",
       "  <thead>\n",
       "    <tr style=\"text-align: right;\">\n",
       "      <th></th>\n",
       "      <th>language</th>\n",
       "      <th>code</th>\n",
       "    </tr>\n",
       "  </thead>\n",
       "  <tbody>\n",
       "    <tr>\n",
       "      <th>0</th>\n",
       "      <td>Python</td>\n",
       "      <td>\"\"\"The tests for the automation component.\"\"\"\\...</td>\n",
       "    </tr>\n",
       "    <tr>\n",
       "      <th>1</th>\n",
       "      <td>Python</td>\n",
       "      <td>#!python2\\n# -*- coding: utf-8 -*-\\nimport os\\...</td>\n",
       "    </tr>\n",
       "    <tr>\n",
       "      <th>2</th>\n",
       "      <td>Python</td>\n",
       "      <td>#!/usr/bin/python\\n#\\n# Copyright (c) 2017 Yuw...</td>\n",
       "    </tr>\n",
       "    <tr>\n",
       "      <th>3</th>\n",
       "      <td>Python</td>\n",
       "      <td>\"\"\"The tests for the Template automation.\"\"\"\\n...</td>\n",
       "    </tr>\n",
       "    <tr>\n",
       "      <th>4</th>\n",
       "      <td>Python</td>\n",
       "      <td>\"\"\"The tests for numeric state automation.\"\"\"\\...</td>\n",
       "    </tr>\n",
       "    <tr>\n",
       "      <th>...</th>\n",
       "      <td>...</td>\n",
       "      <td>...</td>\n",
       "    </tr>\n",
       "    <tr>\n",
       "      <th>9468</th>\n",
       "      <td>C#</td>\n",
       "      <td>using Microsoft.SharePoint.Client;\\nusing Micr...</td>\n",
       "    </tr>\n",
       "    <tr>\n",
       "      <th>9469</th>\n",
       "      <td>C#</td>\n",
       "      <td>using System;\\nusing System.Collections;\\nusin...</td>\n",
       "    </tr>\n",
       "    <tr>\n",
       "      <th>9470</th>\n",
       "      <td>C#</td>\n",
       "      <td>using UnityEngine;\\nusing System.Collections.G...</td>\n",
       "    </tr>\n",
       "    <tr>\n",
       "      <th>9471</th>\n",
       "      <td>C#</td>\n",
       "      <td>// Copyright (c) Microsoft Corporation. All ri...</td>\n",
       "    </tr>\n",
       "    <tr>\n",
       "      <th>9472</th>\n",
       "      <td>C#</td>\n",
       "      <td>using NUnit.Framework;\\nusing UnityEngine.Loca...</td>\n",
       "    </tr>\n",
       "  </tbody>\n",
       "</table>\n",
       "<p>9473 rows × 2 columns</p>\n",
       "</div>"
      ],
      "text/plain": [
       "     language                                               code\n",
       "0      Python  \"\"\"The tests for the automation component.\"\"\"\\...\n",
       "1      Python  #!python2\\n# -*- coding: utf-8 -*-\\nimport os\\...\n",
       "2      Python  #!/usr/bin/python\\n#\\n# Copyright (c) 2017 Yuw...\n",
       "3      Python  \"\"\"The tests for the Template automation.\"\"\"\\n...\n",
       "4      Python  \"\"\"The tests for numeric state automation.\"\"\"\\...\n",
       "...       ...                                                ...\n",
       "9468       C#  using Microsoft.SharePoint.Client;\\nusing Micr...\n",
       "9469       C#  using System;\\nusing System.Collections;\\nusin...\n",
       "9470       C#  using UnityEngine;\\nusing System.Collections.G...\n",
       "9471       C#  // Copyright (c) Microsoft Corporation. All ri...\n",
       "9472       C#  using NUnit.Framework;\\nusing UnityEngine.Loca...\n",
       "\n",
       "[9473 rows x 2 columns]"
      ]
     },
     "execution_count": 2,
     "metadata": {},
     "output_type": "execute_result"
    }
   ],
   "source": [
    "dataset = read_lang_dataset(\"data/codes_fin.db\")\n",
    "dataset"
   ]
  },
  {
   "cell_type": "code",
   "execution_count": 3,
   "metadata": {},
   "outputs": [
    {
     "data": {
      "text/plain": [
       "C++       2688\n",
       "C#        2494\n",
       "Go        2203\n",
       "Python    2088\n",
       "Name: language, dtype: int64"
      ]
     },
     "execution_count": 3,
     "metadata": {},
     "output_type": "execute_result"
    }
   ],
   "source": [
    "dataset.language.value_counts()"
   ]
  },
  {
   "cell_type": "code",
   "execution_count": 18,
   "metadata": {},
   "outputs": [
    {
     "data": {
      "text/html": [
       "<div>\n",
       "<style scoped>\n",
       "    .dataframe tbody tr th:only-of-type {\n",
       "        vertical-align: middle;\n",
       "    }\n",
       "\n",
       "    .dataframe tbody tr th {\n",
       "        vertical-align: top;\n",
       "    }\n",
       "\n",
       "    .dataframe thead th {\n",
       "        text-align: right;\n",
       "    }\n",
       "</style>\n",
       "<table border=\"1\" class=\"dataframe\">\n",
       "  <thead>\n",
       "    <tr style=\"text-align: right;\">\n",
       "      <th></th>\n",
       "      <th>language</th>\n",
       "      <th>code</th>\n",
       "    </tr>\n",
       "  </thead>\n",
       "  <tbody>\n",
       "    <tr>\n",
       "      <th>0</th>\n",
       "      <td>Python</td>\n",
       "      <td>[STRING_LITERAL, \\n, from, datetime, import, t...</td>\n",
       "    </tr>\n",
       "    <tr>\n",
       "      <th>1</th>\n",
       "      <td>Python</td>\n",
       "      <td>[\\n, import, os, \\n, import, sys, \\n, import, ...</td>\n",
       "    </tr>\n",
       "    <tr>\n",
       "      <th>2</th>\n",
       "      <td>Python</td>\n",
       "      <td>[\\n, from, __future__, import, absolute_import...</td>\n",
       "    </tr>\n",
       "    <tr>\n",
       "      <th>3</th>\n",
       "      <td>Python</td>\n",
       "      <td>[STRING_LITERAL, \\n, import, unittest, \\n, fro...</td>\n",
       "    </tr>\n",
       "    <tr>\n",
       "      <th>4</th>\n",
       "      <td>Python</td>\n",
       "      <td>[STRING_LITERAL, \\n, from, datetime, import, t...</td>\n",
       "    </tr>\n",
       "    <tr>\n",
       "      <th>...</th>\n",
       "      <td>...</td>\n",
       "      <td>...</td>\n",
       "    </tr>\n",
       "    <tr>\n",
       "      <th>9468</th>\n",
       "      <td>C#</td>\n",
       "      <td>[using, Microsoft, ., SharePoint, ., Client, ;...</td>\n",
       "    </tr>\n",
       "    <tr>\n",
       "      <th>9469</th>\n",
       "      <td>C#</td>\n",
       "      <td>[using, System, ;, using, System, ., Collectio...</td>\n",
       "    </tr>\n",
       "    <tr>\n",
       "      <th>9470</th>\n",
       "      <td>C#</td>\n",
       "      <td>[using, UnityEngine, ;, using, System, ., Coll...</td>\n",
       "    </tr>\n",
       "    <tr>\n",
       "      <th>9471</th>\n",
       "      <td>C#</td>\n",
       "      <td>[using, System, ;, using, System, ., Collectio...</td>\n",
       "    </tr>\n",
       "    <tr>\n",
       "      <th>9472</th>\n",
       "      <td>C#</td>\n",
       "      <td>[using, NUnit, ., Framework, ;, using, UnityEn...</td>\n",
       "    </tr>\n",
       "  </tbody>\n",
       "</table>\n",
       "<p>9473 rows × 2 columns</p>\n",
       "</div>"
      ],
      "text/plain": [
       "     language                                               code\n",
       "0      Python  [STRING_LITERAL, \\n, from, datetime, import, t...\n",
       "1      Python  [\\n, import, os, \\n, import, sys, \\n, import, ...\n",
       "2      Python  [\\n, from, __future__, import, absolute_import...\n",
       "3      Python  [STRING_LITERAL, \\n, import, unittest, \\n, fro...\n",
       "4      Python  [STRING_LITERAL, \\n, from, datetime, import, t...\n",
       "...       ...                                                ...\n",
       "9468       C#  [using, Microsoft, ., SharePoint, ., Client, ;...\n",
       "9469       C#  [using, System, ;, using, System, ., Collectio...\n",
       "9470       C#  [using, UnityEngine, ;, using, System, ., Coll...\n",
       "9471       C#  [using, System, ;, using, System, ., Collectio...\n",
       "9472       C#  [using, NUnit, ., Framework, ;, using, UnityEn...\n",
       "\n",
       "[9473 rows x 2 columns]"
      ]
     },
     "execution_count": 18,
     "metadata": {},
     "output_type": "execute_result"
    }
   ],
   "source": [
    "use_cache = True\n",
    "# load \"tokenized_sample.pkl\" from disk if it exists\n",
    "if use_cache and os.path.exists(\"models/tokenized_sample.pkl\"):\n",
    "    tokenized_sample = pd.read_pickle(\"models/tokenized_sample.pkl\")\n",
    "else:\n",
    "    tokenized_sample = tokenize_dataset(dataset)\n",
    "    tokenized_sample.to_pickle(\"models/tokenized_sample.pkl\")\n",
    "\n",
    "tokenized_sample"
   ]
  },
  {
   "cell_type": "code",
   "execution_count": 5,
   "metadata": {},
   "outputs": [],
   "source": [
    "def create_lang_model(dataset, complete_model, language):\n",
    "    model = Word2Vec.load(\"models/complete_model.gensim\")\n",
    "    #model = FastText.load(\"models/complete_model.gensim\")\n",
    "    #model = Word2Vec(vector_size=100, window=10, min_count=10, workers=4)\n",
    "    #model.reset_from(complete_model)\n",
    "    #model.init_weights()\n",
    "    train_dataset = dataset.code[dataset.language == language]\n",
    "    model.train(train_dataset, total_examples=len(train_dataset), epochs=5)\n",
    "    return model"
   ]
  },
  {
   "cell_type": "code",
   "execution_count": 95,
   "metadata": {},
   "outputs": [],
   "source": [
    "common_keywords = [\"if\", \"else\", \"for\", \"while\", \"class\", \"struct\", \"return\", \"continue\", \"break\", \"var\", \"try\", \"catch\", \"except\"]\n",
    "semantic_symbols = [\"{\", \"}\", \":\"]\n",
    "\n",
    "language_specific_words = common_keywords + semantic_symbols"
   ]
  },
  {
   "cell_type": "code",
   "execution_count": 70,
   "metadata": {},
   "outputs": [],
   "source": [
    "from functools import partial\n",
    "\n",
    "\n",
    "def add_language_prefix(code, language):\n",
    "    return [f\"{language}_{keyword}\" if keyword in language_specific_words else keyword for keyword in code]\n",
    "\n",
    "for language in tokenized_sample.language.unique():\n",
    "    tokenized_sample.loc[tokenized_sample.language == language, \"code\"] = tokenized_sample[tokenized_sample.language == language].code.apply(partial(add_language_prefix, language=language))"
   ]
  },
  {
   "cell_type": "code",
   "execution_count": 92,
   "metadata": {},
   "outputs": [
    {
     "data": {
      "text/plain": [
       "<gensim.models.fasttext.FastText at 0x1ea14581360>"
      ]
     },
     "execution_count": 92,
     "metadata": {},
     "output_type": "execute_result"
    }
   ],
   "source": [
    "#complete_model = FastText(vector_size=100, window=5, min_count=5, workers=8)\n",
    "#complete_model = Word2Vec(vector_size=500, window=5, min_count=10, workers=8)\n",
    "complete_model = FastText(vector_size=100, window=5, min_count=10, workers=8)\n",
    "complete_model.build_vocab(tokenized_sample.code)\n",
    "complete_model.train(tokenized_sample.code, total_examples=complete_model.corpus_count, epochs=5)\n",
    "complete_model"
   ]
  },
  {
   "attachments": {},
   "cell_type": "markdown",
   "metadata": {},
   "source": [
    "# Visualize"
   ]
  },
  {
   "cell_type": "code",
   "execution_count": 64,
   "metadata": {},
   "outputs": [],
   "source": [
    "inserted_tokens = [\"INT_LITERAL\", \"FLOAT_LITERAL\", \"STRING_LITERAL\", \"VARIABLE\"]\n",
    "math_ops = [\"+\", \"-\", \"*\", \"/\", \"%\", \"&&\", \"||\", \"!\", \"&\", \"|\"]\n",
    "\n",
    "python_keywords = [\"def\", \"class\", \"return\", \"if\", \"else\", \"for\", \"while\", \"in\", \"import\", \"from\", \"as\", \"with\", \"try\", \"except\", \"finally\", \"raise\", \"assert\", \"yield\", \"lambda\", \"pass\", \"break\", \"continue\", \"del\", \"global\", \"nonlocal\", \"and\", \"or\", \"not\", \"is\", \"in\", \"True\", \"False\", \"None\", \"async\", \"await\"]\n",
    "cpp_keywords = [\"class\", \"bool\", \"catch\", \"try\", \"break\", \"continue\", \"delete\", \"do\", \"else\", \"enum\", \"explicit\", \"export\", \"extern\", \"false\", \"for\", \"friend\", \"goto\", \"if\", \"inline\", \"mutable\", \"namespace\", \"new\", \"operator\", \"private\", \"protected\", \"public\", \"register\", \"return\", \"sizeof\", \"static\", \"struct\", \"switch\", \"template\", \"this\", \"throw\", \"true\", \"typedef\", \"typeid\", \"typename\", \"union\", \"using\", \"virtual\", \"volatile\", \"while\"]\n",
    "csharp_keywords = [\"class\", \"bool\", \"catch\", \"try\", \"break\", \"continue\", \"delete\", \"do\", \"else\", \"enum\", \"explicit\", \"export\", \"extern\", \"false\", \"for\", \"friend\", \"goto\", \"if\", \"inline\", \"mutable\", \"namespace\", \"new\", \"operator\", \"private\", \"protected\", \"public\", \"register\", \"return\", \"sizeof\", \"static\", \"struct\", \"switch\", \"template\", \"this\", \"throw\", \"true\", \"typedef\", \"typeid\", \"typename\", \"union\", \"using\", \"virtual\", \"volatile\", \"while\"]\n",
    "go_keywords = [\"break\", \"func\", \"default\", \"type\", \"defer\", \"go\", \"struct\", \"map\", \"chan\", \"else\", \"goto\", \"package\", \"range\", \"const\", \"fallthrough\", \"for\", \"import\", \"interface\", \"return\", \"select\", \"case\", \"continue\", \"if\", \"switch\", \"var\", \"nil\", \"true\", \"false\"]"
   ]
  },
  {
   "cell_type": "code",
   "execution_count": 98,
   "metadata": {},
   "outputs": [],
   "source": [
    "def word_cloud(model: Word2Vec, words):\n",
    "    words = [word for word in words if word in model.wv.key_to_index.keys()]\n",
    "    word_vectors = np.array([model.wv.get_normed_vectors()[model.wv.key_to_index[word]] for word in words])\n",
    "    pca = PCA(n_components=2)\n",
    "    result = pca.fit_transform(word_vectors)\n",
    "\n",
    "    df = pd.DataFrame(result, columns=[\"x\", \"y\"])\n",
    "    df[\"model\"] = [word.split(\"_\")[0] if len(word.split(\"_\")) == 2 else \"\" for word in words]\n",
    "    ax = sns.scatterplot(data=df, x=\"x\", y=\"y\", hue=\"model\")\n",
    "    range_x, range_y = np.ptp(df[[\"x\", \"y\"]], axis=0)\n",
    "    keywords = [word.split(\"_\")[1] if len(word.split(\"_\")) == 2 else word for word in words]\n",
    "    for i, word in enumerate(keywords):\n",
    "        x, y = result[i]\n",
    "        ax.text(x + 0.005 * range_x, y, word, verticalalignment='center', horizontalalignment='left', fontsize=8)\n",
    "    return ax"
   ]
  },
  {
   "cell_type": "code",
   "execution_count": 99,
   "metadata": {},
   "outputs": [
    {
     "data": {
      "text/plain": [
       "<AxesSubplot: xlabel='x', ylabel='y'>"
      ]
     },
     "execution_count": 99,
     "metadata": {},
     "output_type": "execute_result"
    },
    {
     "data": {
      "image/png": "[encoded data removed]",
      "text/plain": [
       "<Figure size 1200x800 with 1 Axes>"
      ]
     },
     "metadata": {},
     "output_type": "display_data"
    }
   ],
   "source": [
    "word_cloud(complete_model, [f\"{language}_{w}\" for w in common_keywords for language in tokenized_sample.language.unique()] + [\"foreach\"])"
   ]
  },
  {
   "cell_type": "code",
   "execution_count": 108,
   "metadata": {},
   "outputs": [
    {
     "data": {
      "text/plain": [
       "[('C#_var', 0.0160809),\n",
       " ('new', 0.015235802),\n",
       " ('await', 0.010560422),\n",
       " ('GetEmailAccountOfMessageTemplate', 0.007088959),\n",
       " ('using', 0.0059325644),\n",
       " ('out', 0.0053956774),\n",
       " ('GetResponseStream', 0.0041278144),\n",
       " ('Replace', 0.0034895958),\n",
       " ('CreateInstallCommand', 0.0030178968),\n",
       " ('Uri', 0.0029380445)]"
      ]
     },
     "execution_count": 108,
     "metadata": {},
     "output_type": "execute_result"
    }
   ],
   "source": [
    "# evaluate the model performance\n",
    "complete_model.predict_output_word([\"C#_var\", \"VARIABLE\"])"
   ]
  },
  {
   "cell_type": "code",
   "execution_count": null,
   "metadata": {},
   "outputs": [],
   "source": []
  }
 ],
 "metadata": {
  "kernelspec": {
   "display_name": "env",
   "language": "python",
   "name": "python3"
  },
  "language_info": {
   "codemirror_mode": {
    "name": "ipython",
    "version": 3
   },
   "file_extension": ".py",
   "mimetype": "text/x-python",
   "name": "python",
   "nbconvert_exporter": "python",
   "pygments_lexer": "ipython3",
   "version": "3.10.5"
  },
  "orig_nbformat": 4,
  "vscode": {
   "interpreter": {
    "hash": "4ba882bed1965a54d4fef669f18faecb8d8e732d30288b3c8a5015454ba0d6c4"
   }
  }
 },
 "nbformat": 4,
 "nbformat_minor": 2
}
