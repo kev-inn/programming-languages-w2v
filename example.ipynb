{
 "cells": [
  {
   "cell_type": "code",
   "execution_count": 1,
   "metadata": {},
   "outputs": [],
   "source": [
    "import re\n",
    "from typing import List, Tuple\n",
    "\n",
    "import pandas as pd\n",
    "import numpy as np\n",
    "import seaborn as sns\n",
    "import matplotlib.pyplot as plt\n",
    "import gensim\n",
    "from gensim.models import Word2Vec\n",
    "from tqdm.notebook import tqdm\n",
    "\n",
    "from sklearn.decomposition import PCA\n",
    "from sklearn.model_selection import train_test_split\n",
    "\n",
    "from src.dataset import read_lang_dataset, tokenize_dataset, get_vocab_mapping, gateways\n",
    "\n",
    "sns.set_theme()\n",
    "sns.set(rc={'figure.figsize': (12, 8)})"
   ]
  },
  {
   "cell_type": "code",
   "execution_count": 2,
   "metadata": {},
   "outputs": [
    {
     "data": {
      "text/html": [
       "<div>\n",
       "<style scoped>\n",
       "    .dataframe tbody tr th:only-of-type {\n",
       "        vertical-align: middle;\n",
       "    }\n",
       "\n",
       "    .dataframe tbody tr th {\n",
       "        vertical-align: top;\n",
       "    }\n",
       "\n",
       "    .dataframe thead th {\n",
       "        text-align: right;\n",
       "    }\n",
       "</style>\n",
       "<table border=\"1\" class=\"dataframe\">\n",
       "  <thead>\n",
       "    <tr style=\"text-align: right;\">\n",
       "      <th></th>\n",
       "      <th>language</th>\n",
       "      <th>code</th>\n",
       "    </tr>\n",
       "  </thead>\n",
       "  <tbody>\n",
       "    <tr>\n",
       "      <th>0</th>\n",
       "      <td>Python</td>\n",
       "      <td>\"\"\"The tests for the automation component.\"\"\"\\...</td>\n",
       "    </tr>\n",
       "    <tr>\n",
       "      <th>1</th>\n",
       "      <td>Python</td>\n",
       "      <td>#!python2\\n# -*- coding: utf-8 -*-\\nimport os\\...</td>\n",
       "    </tr>\n",
       "    <tr>\n",
       "      <th>2</th>\n",
       "      <td>Python</td>\n",
       "      <td>#!/usr/bin/python\\n#\\n# Copyright (c) 2017 Yuw...</td>\n",
       "    </tr>\n",
       "    <tr>\n",
       "      <th>3</th>\n",
       "      <td>Python</td>\n",
       "      <td>\"\"\"The tests for the Template automation.\"\"\"\\n...</td>\n",
       "    </tr>\n",
       "    <tr>\n",
       "      <th>4</th>\n",
       "      <td>Python</td>\n",
       "      <td>\"\"\"The tests for numeric state automation.\"\"\"\\...</td>\n",
       "    </tr>\n",
       "    <tr>\n",
       "      <th>...</th>\n",
       "      <td>...</td>\n",
       "      <td>...</td>\n",
       "    </tr>\n",
       "    <tr>\n",
       "      <th>4694</th>\n",
       "      <td>Python</td>\n",
       "      <td># coding=utf-8\\n# Copyright 2020 The HuggingFa...</td>\n",
       "    </tr>\n",
       "    <tr>\n",
       "      <th>4695</th>\n",
       "      <td>Python</td>\n",
       "      <td>#! /usr/bin/env python\\n\\n# Author: David Good...</td>\n",
       "    </tr>\n",
       "    <tr>\n",
       "      <th>4696</th>\n",
       "      <td>Python</td>\n",
       "      <td>from enum import Enum, auto\\nfrom typing impor...</td>\n",
       "    </tr>\n",
       "    <tr>\n",
       "      <th>4697</th>\n",
       "      <td>Python</td>\n",
       "      <td>\"\"\"Define action data and record.\"\"\"\\n\\n# Offi...</td>\n",
       "    </tr>\n",
       "    <tr>\n",
       "      <th>4698</th>\n",
       "      <td>Python</td>\n",
       "      <td>from Evolution import auto_test_target_functio...</td>\n",
       "    </tr>\n",
       "  </tbody>\n",
       "</table>\n",
       "<p>4699 rows × 2 columns</p>\n",
       "</div>"
      ],
      "text/plain": [
       "     language                                               code\n",
       "0      Python  \"\"\"The tests for the automation component.\"\"\"\\...\n",
       "1      Python  #!python2\\n# -*- coding: utf-8 -*-\\nimport os\\...\n",
       "2      Python  #!/usr/bin/python\\n#\\n# Copyright (c) 2017 Yuw...\n",
       "3      Python  \"\"\"The tests for the Template automation.\"\"\"\\n...\n",
       "4      Python  \"\"\"The tests for numeric state automation.\"\"\"\\...\n",
       "...       ...                                                ...\n",
       "4694   Python  # coding=utf-8\\n# Copyright 2020 The HuggingFa...\n",
       "4695   Python  #! /usr/bin/env python\\n\\n# Author: David Good...\n",
       "4696   Python  from enum import Enum, auto\\nfrom typing impor...\n",
       "4697   Python  \"\"\"Define action data and record.\"\"\"\\n\\n# Offi...\n",
       "4698   Python  from Evolution import auto_test_target_functio...\n",
       "\n",
       "[4699 rows x 2 columns]"
      ]
     },
     "execution_count": 2,
     "metadata": {},
     "output_type": "execute_result"
    }
   ],
   "source": [
    "dataset = read_lang_dataset(\"data/codes_new.db\")\n",
    "dataset"
   ]
  },
  {
   "cell_type": "code",
   "execution_count": 3,
   "metadata": {},
   "outputs": [
    {
     "data": {
      "text/plain": [
       "Go        2203\n",
       "Python    1383\n",
       "C#        1113\n",
       "Name: language, dtype: int64"
      ]
     },
     "execution_count": 3,
     "metadata": {},
     "output_type": "execute_result"
    }
   ],
   "source": [
    "dataset.language.value_counts()"
   ]
  },
  {
   "cell_type": "code",
   "execution_count": 4,
   "metadata": {},
   "outputs": [
    {
     "name": "stderr",
     "output_type": "stream",
     "text": [
      "100%|██████████| 1383/1383 [00:56<00:00, 24.54it/s]\n",
      "100%|██████████| 1113/1113 [00:27<00:00, 41.11it/s]\n",
      "100%|██████████| 2203/2203 [01:39<00:00, 22.22it/s]\n"
     ]
    },
    {
     "data": {
      "text/html": [
       "<div>\n",
       "<style scoped>\n",
       "    .dataframe tbody tr th:only-of-type {\n",
       "        vertical-align: middle;\n",
       "    }\n",
       "\n",
       "    .dataframe tbody tr th {\n",
       "        vertical-align: top;\n",
       "    }\n",
       "\n",
       "    .dataframe thead th {\n",
       "        text-align: right;\n",
       "    }\n",
       "</style>\n",
       "<table border=\"1\" class=\"dataframe\">\n",
       "  <thead>\n",
       "    <tr style=\"text-align: right;\">\n",
       "      <th></th>\n",
       "      <th>language</th>\n",
       "      <th>code</th>\n",
       "    </tr>\n",
       "  </thead>\n",
       "  <tbody>\n",
       "    <tr>\n",
       "      <th>0</th>\n",
       "      <td>Python</td>\n",
       "      <td>[STRING_LITERAL, \\n, from, datetime, import, t...</td>\n",
       "    </tr>\n",
       "    <tr>\n",
       "      <th>1</th>\n",
       "      <td>Python</td>\n",
       "      <td>[\\n, import, os, \\n, import, sys, \\n, import, ...</td>\n",
       "    </tr>\n",
       "    <tr>\n",
       "      <th>2</th>\n",
       "      <td>Python</td>\n",
       "      <td>[\\n, from, __future__, import, absolute_import...</td>\n",
       "    </tr>\n",
       "    <tr>\n",
       "      <th>3</th>\n",
       "      <td>Python</td>\n",
       "      <td>[STRING_LITERAL, \\n, import, unittest, \\n, fro...</td>\n",
       "    </tr>\n",
       "    <tr>\n",
       "      <th>4</th>\n",
       "      <td>Python</td>\n",
       "      <td>[STRING_LITERAL, \\n, from, datetime, import, t...</td>\n",
       "    </tr>\n",
       "    <tr>\n",
       "      <th>...</th>\n",
       "      <td>...</td>\n",
       "      <td>...</td>\n",
       "    </tr>\n",
       "    <tr>\n",
       "      <th>4694</th>\n",
       "      <td>Python</td>\n",
       "      <td>[\\n, import, copy, \\n, import, sys, \\n, import...</td>\n",
       "    </tr>\n",
       "    <tr>\n",
       "      <th>4695</th>\n",
       "      <td>Python</td>\n",
       "      <td>[\\n, STRING_LITERAL, \\n, from, __init__, impor...</td>\n",
       "    </tr>\n",
       "    <tr>\n",
       "      <th>4696</th>\n",
       "      <td>Python</td>\n",
       "      <td>[from, enum, import, Enum, ,, auto, \\n, from, ...</td>\n",
       "    </tr>\n",
       "    <tr>\n",
       "      <th>4697</th>\n",
       "      <td>Python</td>\n",
       "      <td>[STRING_LITERAL, \\n, from, dataclasses, import...</td>\n",
       "    </tr>\n",
       "    <tr>\n",
       "      <th>4698</th>\n",
       "      <td>Python</td>\n",
       "      <td>[from, Evolution, import, auto_test_target_fun...</td>\n",
       "    </tr>\n",
       "  </tbody>\n",
       "</table>\n",
       "<p>4699 rows × 2 columns</p>\n",
       "</div>"
      ],
      "text/plain": [
       "     language                                               code\n",
       "0      Python  [STRING_LITERAL, \\n, from, datetime, import, t...\n",
       "1      Python  [\\n, import, os, \\n, import, sys, \\n, import, ...\n",
       "2      Python  [\\n, from, __future__, import, absolute_import...\n",
       "3      Python  [STRING_LITERAL, \\n, import, unittest, \\n, fro...\n",
       "4      Python  [STRING_LITERAL, \\n, from, datetime, import, t...\n",
       "...       ...                                                ...\n",
       "4694   Python  [\\n, import, copy, \\n, import, sys, \\n, import...\n",
       "4695   Python  [\\n, STRING_LITERAL, \\n, from, __init__, impor...\n",
       "4696   Python  [from, enum, import, Enum, ,, auto, \\n, from, ...\n",
       "4697   Python  [STRING_LITERAL, \\n, from, dataclasses, import...\n",
       "4698   Python  [from, Evolution, import, auto_test_target_fun...\n",
       "\n",
       "[4699 rows x 2 columns]"
      ]
     },
     "execution_count": 4,
     "metadata": {},
     "output_type": "execute_result"
    }
   ],
   "source": [
    "tokenized_sample = tokenize_dataset(dataset)\n",
    "tokenized_sample"
   ]
  },
  {
   "cell_type": "code",
   "execution_count": 6,
   "metadata": {},
   "outputs": [],
   "source": [
    "def create_lang_model(dataset, complete_model, language):\n",
    "    model = Word2Vec.load(\"models/complete_model.gensim\")\n",
    "    #model = Word2Vec(vector_size=100, window=10, min_count=10, workers=4)\n",
    "    #model.reset_from(complete_model)\n",
    "    model.init_weights()\n",
    "    train_dataset = dataset.code[dataset.language == language]\n",
    "    model.train(train_dataset, total_examples=len(train_dataset), epochs=10)\n",
    "    return model"
   ]
  },
  {
   "cell_type": "code",
   "execution_count": 8,
   "metadata": {},
   "outputs": [
    {
     "data": {
      "text/plain": [
       "[('Python', <gensim.models.word2vec.Word2Vec at 0x25cae0c7e80>),\n",
       " ('C#', <gensim.models.word2vec.Word2Vec at 0x25cae0c73a0>),\n",
       " ('Go', <gensim.models.word2vec.Word2Vec at 0x25cad9c4dc0>)]"
      ]
     },
     "execution_count": 8,
     "metadata": {},
     "output_type": "execute_result"
    }
   ],
   "source": [
    "complete_model = Word2Vec(vector_size=100, window=10, min_count=10, workers=8)\n",
    "complete_model.build_vocab(tokenized_sample.code)\n",
    "complete_model.save(\"models/complete_model.gensim\")\n",
    "models = [(language, create_lang_model(tokenized_sample, complete_model, language)) for language in tokenized_sample.language.unique()]\n",
    "models"
   ]
  },
  {
   "attachments": {},
   "cell_type": "markdown",
   "metadata": {},
   "source": [
    "# Visualize"
   ]
  },
  {
   "cell_type": "code",
   "execution_count": 17,
   "metadata": {},
   "outputs": [],
   "source": [
    "from gensim.models import TranslationMatrix\n",
    "\n",
    "\n",
    "inserted_tokens = [\"INT_LITERAL\", \"FLOAT_LITERAL\", \"STRING_LITERAL\", \"VARIABLE\"]\n",
    "math_ops = [\"+\", \"-\", \"*\", \"/\", \"%\"]\n",
    "common_keywords = [\"if\", \"else\", \"for\", \"while\"]\n",
    "python_keywords = [\"def\", \"class\", \"return\", \"if\", \"else\", \"for\", \"while\", \"in\", \"import\", \"from\", \"as\", \"with\", \"try\", \"except\", \"finally\", \"raise\", \"assert\", \"yield\", \"lambda\", \"pass\", \"break\", \"continue\", \"del\", \"global\", \"nonlocal\", \"and\", \"or\", \"not\", \"is\", \"in\", \"True\", \"False\", \"None\", \"async\", \"await\"]\n",
    "cpp_keywords = [\"class\", \"bool\", \"catch\", \"try\", \"break\", \"continue\", \"delete\", \"do\", \"else\", \"enum\", \"explicit\", \"export\", \"extern\", \"false\", \"for\", \"friend\", \"goto\", \"if\", \"inline\", \"mutable\", \"namespace\", \"new\", \"operator\", \"private\", \"protected\", \"public\", \"register\", \"return\", \"sizeof\", \"static\", \"struct\", \"switch\", \"template\", \"this\", \"throw\", \"true\", \"typedef\", \"typeid\", \"typename\", \"union\", \"using\", \"virtual\", \"volatile\", \"while\"]\n",
    "csharp_keywords = [\"class\", \"bool\", \"catch\", \"try\", \"break\", \"continue\", \"delete\", \"do\", \"else\", \"enum\", \"explicit\", \"export\", \"extern\", \"false\", \"for\", \"friend\", \"goto\", \"if\", \"inline\", \"mutable\", \"namespace\", \"new\", \"operator\", \"private\", \"protected\", \"public\", \"register\", \"return\", \"sizeof\", \"static\", \"struct\", \"switch\", \"template\", \"this\", \"throw\", \"true\", \"typedef\", \"typeid\", \"typename\", \"union\", \"using\", \"virtual\", \"volatile\", \"while\"]\n",
    "go_keywords = [\"break\", \"func\", \"default\", \"type\", \"defer\", \"go\", \"struct\", \"map\", \"chan\", \"else\", \"goto\", \"package\", \"range\", \"const\", \"fallthrough\", \"for\", \"import\", \"interface\", \"return\", \"select\", \"case\", \"continue\", \"if\", \"switch\", \"var\", \"nil\", \"true\", \"false\"]"
   ]
  },
  {
   "cell_type": "code",
   "execution_count": 51,
   "metadata": {},
   "outputs": [],
   "source": [
    "# TODO: vectors are different for models so we have to align them, currently we just use least square method\n",
    "#  maybe removing mean vector or something can help.\n",
    "def word_cloud(models: List[Tuple[str, Word2Vec]], words, translation_fix_words):\n",
    "    words = list(set(words))\n",
    "    translation_target = models[0][1].wv[translation_fix_words]\n",
    "    df = pd.DataFrame(columns=[\"model\", \"word\", \"x\", \"y\"])\n",
    "    for name, model in models:\n",
    "        translation_source = model.wv[translation_fix_words]\n",
    "        translation_matrix = np.linalg.lstsq(translation_source, translation_target, rcond=None)[0]\n",
    "        existing_words = [word for word in words if word in model.wv]\n",
    "        vecs = [model.wv[word] @ translation_matrix for word in existing_words]\n",
    "        vecs = np.asarray(vecs)\n",
    "        df = df.append(pd.DataFrame({\"model\": [name] * len(existing_words), \"word\": existing_words, \"x\": vecs[:, 0], \"y\": vecs[:, 1]}))\n",
    "\n",
    "    # visulize 2D with dimensionality reductino\n",
    "    pca = PCA(2, whiten=True)\n",
    "    df[[\"x\", \"y\"]] = pca.fit_transform(df[[\"x\", \"y\"]])\n",
    "    ax = sns.scatterplot(data=df, x=\"x\", y=\"y\", hue=\"model\")\n",
    "    range_x, range_y = np.ptp(df[[\"x\", \"y\"]], axis=0)\n",
    "    for m in df.model.unique():\n",
    "        model_df = df[df.model == m]\n",
    "        for model, word, x, y in model_df.itertuples(index=False):\n",
    "            ax.text(x + 0.005 * range_x, y, word,\n",
    "                verticalalignment='center', horizontalalignment='left', fontsize=8)\n",
    "    return ax"
   ]
  },
  {
   "cell_type": "code",
   "execution_count": 52,
   "metadata": {},
   "outputs": [
    {
     "name": "stderr",
     "output_type": "stream",
     "text": [
      "C:\\Users\\Kevin\\AppData\\Local\\Temp\\ipykernel_17416\\1721258809.py:11: FutureWarning: The frame.append method is deprecated and will be removed from pandas in a future version. Use pandas.concat instead.\n",
      "  df = df.append(pd.DataFrame({\"model\": [name] * len(existing_words), \"word\": existing_words, \"x\": vecs[:, 0], \"y\": vecs[:, 1]}))\n",
      "C:\\Users\\Kevin\\AppData\\Local\\Temp\\ipykernel_17416\\1721258809.py:11: FutureWarning: The frame.append method is deprecated and will be removed from pandas in a future version. Use pandas.concat instead.\n",
      "  df = df.append(pd.DataFrame({\"model\": [name] * len(existing_words), \"word\": existing_words, \"x\": vecs[:, 0], \"y\": vecs[:, 1]}))\n",
      "C:\\Users\\Kevin\\AppData\\Local\\Temp\\ipykernel_17416\\1721258809.py:11: FutureWarning: The frame.append method is deprecated and will be removed from pandas in a future version. Use pandas.concat instead.\n",
      "  df = df.append(pd.DataFrame({\"model\": [name] * len(existing_words), \"word\": existing_words, \"x\": vecs[:, 0], \"y\": vecs[:, 1]}))\n"
     ]
    },
    {
     "data": {
      "text/plain": [
       "<AxesSubplot: xlabel='x', ylabel='y'>"
      ]
     },
     "execution_count": 52,
     "metadata": {},
     "output_type": "execute_result"
    },
    {
     "data": {
      "image/png": "[encoded data removed]",
      "text/plain": [
       "<Figure size 1200x800 with 1 Axes>"
      ]
     },
     "metadata": {},
     "output_type": "display_data"
    }
   ],
   "source": [
    "word_cloud(models, python_keywords + common_keywords, [w for w in complete_model.wv.key_to_index.keys()])"
   ]
  },
  {
   "cell_type": "code",
   "execution_count": null,
   "metadata": {},
   "outputs": [],
   "source": []
  }
 ],
 "metadata": {
  "kernelspec": {
   "display_name": "env",
   "language": "python",
   "name": "python3"
  },
  "language_info": {
   "codemirror_mode": {
    "name": "ipython",
    "version": 3
   },
   "file_extension": ".py",
   "mimetype": "text/x-python",
   "name": "python",
   "nbconvert_exporter": "python",
   "pygments_lexer": "ipython3",
   "version": "3.10.5"
  },
  "orig_nbformat": 4,
  "vscode": {
   "interpreter": {
    "hash": "4ba882bed1965a54d4fef669f18faecb8d8e732d30288b3c8a5015454ba0d6c4"
   }
  }
 },
 "nbformat": 4,
 "nbformat_minor": 2
}
