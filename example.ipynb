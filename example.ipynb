{
 "cells": [
  {
   "cell_type": "code",
   "execution_count": 29,
   "metadata": {},
   "outputs": [],
   "source": [
    "import re\n",
    "\n",
    "import pandas as pd\n",
    "import numpy as np\n",
    "import seaborn as sns\n",
    "import matplotlib.pyplot as plt\n",
    "import gensim\n",
    "from gensim.models import Word2Vec\n",
    "from tqdm.notebook import tqdm\n",
    "\n",
    "from sklearn.decomposition import PCA\n",
    "from sklearn.model_selection import train_test_split\n",
    "\n",
    "from src.dataset import read_lang_dataset, tokenize_dataset, get_vocab_mapping, gateways\n",
    "\n",
    "sns.set_theme()\n",
    "sns.set(rc={'figure.figsize': (12, 8)})"
   ]
  },
  {
   "cell_type": "code",
   "execution_count": 30,
   "metadata": {},
   "outputs": [
    {
     "data": {
      "text/html": [
       "<div>\n",
       "<style scoped>\n",
       "    .dataframe tbody tr th:only-of-type {\n",
       "        vertical-align: middle;\n",
       "    }\n",
       "\n",
       "    .dataframe tbody tr th {\n",
       "        vertical-align: top;\n",
       "    }\n",
       "\n",
       "    .dataframe thead th {\n",
       "        text-align: right;\n",
       "    }\n",
       "</style>\n",
       "<table border=\"1\" class=\"dataframe\">\n",
       "  <thead>\n",
       "    <tr style=\"text-align: right;\">\n",
       "      <th></th>\n",
       "      <th>language</th>\n",
       "      <th>code</th>\n",
       "    </tr>\n",
       "  </thead>\n",
       "  <tbody>\n",
       "    <tr>\n",
       "      <th>0</th>\n",
       "      <td>Go</td>\n",
       "      <td>package handler\\n\\nimport (\\n\\t\"log\"\\n\\t\"net/h...</td>\n",
       "    </tr>\n",
       "    <tr>\n",
       "      <th>1</th>\n",
       "      <td>Go</td>\n",
       "      <td>package main\\n\\nimport (\\n\\t\"encoding/json\"\\n\\...</td>\n",
       "    </tr>\n",
       "    <tr>\n",
       "      <th>2</th>\n",
       "      <td>Go</td>\n",
       "      <td>package main\\n\\nimport (\\n\\t\"context\"\\n\\t\"log\"...</td>\n",
       "    </tr>\n",
       "    <tr>\n",
       "      <th>3</th>\n",
       "      <td>Go</td>\n",
       "      <td>package model\\n\\nimport (\\n\\t\"database/sql/dri...</td>\n",
       "    </tr>\n",
       "    <tr>\n",
       "      <th>4</th>\n",
       "      <td>Go</td>\n",
       "      <td>package db\\n\\nimport (\\n\\t\"context\"\\n\\n\\t\"gith...</td>\n",
       "    </tr>\n",
       "    <tr>\n",
       "      <th>...</th>\n",
       "      <td>...</td>\n",
       "      <td>...</td>\n",
       "    </tr>\n",
       "    <tr>\n",
       "      <th>2198</th>\n",
       "      <td>Go</td>\n",
       "      <td>package postgresql\\n\\nimport (\\n\\t\"database/sq...</td>\n",
       "    </tr>\n",
       "    <tr>\n",
       "      <th>2199</th>\n",
       "      <td>Go</td>\n",
       "      <td>package web\\n\\nimport (\\n\\t\"database/sql\"\\n\\t\"...</td>\n",
       "    </tr>\n",
       "    <tr>\n",
       "      <th>2200</th>\n",
       "      <td>Go</td>\n",
       "      <td>// Copyright (C) 2019-2021, Ava Labs, Inc. All...</td>\n",
       "    </tr>\n",
       "    <tr>\n",
       "      <th>2201</th>\n",
       "      <td>Go</td>\n",
       "      <td>package database\\n\\nimport (\\n\\t\"database/sql\"...</td>\n",
       "    </tr>\n",
       "    <tr>\n",
       "      <th>2202</th>\n",
       "      <td>Go</td>\n",
       "      <td>package azure\\n\\nimport (\\n\\t\"fmt\"\\n\\t\"log\"\\n\\...</td>\n",
       "    </tr>\n",
       "  </tbody>\n",
       "</table>\n",
       "<p>2203 rows × 2 columns</p>\n",
       "</div>"
      ],
      "text/plain": [
       "     language                                               code\n",
       "0          Go  package handler\\n\\nimport (\\n\\t\"log\"\\n\\t\"net/h...\n",
       "1          Go  package main\\n\\nimport (\\n\\t\"encoding/json\"\\n\\...\n",
       "2          Go  package main\\n\\nimport (\\n\\t\"context\"\\n\\t\"log\"...\n",
       "3          Go  package model\\n\\nimport (\\n\\t\"database/sql/dri...\n",
       "4          Go  package db\\n\\nimport (\\n\\t\"context\"\\n\\n\\t\"gith...\n",
       "...       ...                                                ...\n",
       "2198       Go  package postgresql\\n\\nimport (\\n\\t\"database/sq...\n",
       "2199       Go  package web\\n\\nimport (\\n\\t\"database/sql\"\\n\\t\"...\n",
       "2200       Go  // Copyright (C) 2019-2021, Ava Labs, Inc. All...\n",
       "2201       Go  package database\\n\\nimport (\\n\\t\"database/sql\"...\n",
       "2202       Go  package azure\\n\\nimport (\\n\\t\"fmt\"\\n\\t\"log\"\\n\\...\n",
       "\n",
       "[2203 rows x 2 columns]"
      ]
     },
     "execution_count": 30,
     "metadata": {},
     "output_type": "execute_result"
    }
   ],
   "source": [
    "csharp_df = read_lang_dataset(\"data/codes_go.db\")\n",
    "csharp_df"
   ]
  },
  {
   "cell_type": "code",
   "execution_count": 31,
   "metadata": {},
   "outputs": [
    {
     "name": "stderr",
     "output_type": "stream",
     "text": [
      "  0%|          | 10/2203 [00:10<39:33,  1.08s/it] "
     ]
    }
   ],
   "source": [
    "tokenized_sample = tokenize_dataset(csharp_df)\n",
    "tokenized_sample"
   ]
  },
  {
   "cell_type": "code",
   "execution_count": 26,
   "metadata": {},
   "outputs": [],
   "source": [
    "model = Word2Vec(tokenized_sample.code, vector_size=100, window=10, min_count=5, workers=7)"
   ]
  },
  {
   "attachments": {},
   "cell_type": "markdown",
   "metadata": {},
   "source": [
    "# Visualize"
   ]
  },
  {
   "cell_type": "code",
   "execution_count": 27,
   "metadata": {},
   "outputs": [],
   "source": [
    "def word_cloud(words):\n",
    "    words = list(set(words))\n",
    "    words = [word for word in words if word in model.wv]\n",
    "    vecs = [model.wv[word] for word in words]\n",
    "    vecs = np.asarray(vecs)\n",
    "    # visulize 2D with dimensionality reductino\n",
    "    pca = PCA(2)\n",
    "    vecs = pca.fit_transform(vecs)\n",
    "    ax = sns.scatterplot(x=vecs[:,0], y=vecs[:,1])\n",
    "    for i, word in enumerate(words):\n",
    "        ax.text(vecs[i,0] + 0.01, vecs[i,1], word,\n",
    "            verticalalignment='center', horizontalalignment='left', fontsize=8)\n",
    "    return ax"
   ]
  },
  {
   "cell_type": "code",
   "execution_count": 28,
   "metadata": {},
   "outputs": [
    {
     "data": {
      "text/plain": [
       "<AxesSubplot: >"
      ]
     },
     "execution_count": 28,
     "metadata": {},
     "output_type": "execute_result"
    },
    {
     "data": {
      "image/png": "[encoded data removed]",
      "text/plain": [
       "<Figure size 1200x800 with 1 Axes>"
      ]
     },
     "metadata": {},
     "output_type": "display_data"
    }
   ],
   "source": [
    "word_cloud([\"INT_LITERAL\", \"FLOAT_LITERAL\", \"VARIABLE\", \"STRING_LITERAL\", \"==\", \"!=\", \"<\", \">\", \"+\", \"=\", \"-\"])"
   ]
  },
  {
   "cell_type": "code",
   "execution_count": null,
   "metadata": {},
   "outputs": [],
   "source": []
  }
 ],
 "metadata": {
  "kernelspec": {
   "display_name": "env",
   "language": "python",
   "name": "python3"
  },
  "language_info": {
   "codemirror_mode": {
    "name": "ipython",
    "version": 3
   },
   "file_extension": ".py",
   "mimetype": "text/x-python",
   "name": "python",
   "nbconvert_exporter": "python",
   "pygments_lexer": "ipython3",
   "version": "3.10.5"
  },
  "orig_nbformat": 4,
  "vscode": {
   "interpreter": {
    "hash": "4ba882bed1965a54d4fef669f18faecb8d8e732d30288b3c8a5015454ba0d6c4"
   }
  }
 },
 "nbformat": 4,
 "nbformat_minor": 2
}
